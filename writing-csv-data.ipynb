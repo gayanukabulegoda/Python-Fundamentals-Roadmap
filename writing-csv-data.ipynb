{
 "cells": [
  {
   "cell_type": "code",
   "execution_count": 2,
   "metadata": {},
   "outputs": [
    {
     "name": "stdout",
     "output_type": "stream",
     "text": [
      "Data written to the CSV file : my_csv.csv successfully.\n"
     ]
    }
   ],
   "source": [
    "# Writing CSV Data\n",
    "import csv\n",
    "\n",
    "csv_file_path = 'my_csv.csv'\n",
    "\n",
    "# Data to be written to the CSV file (a list of Dictionaries)\n",
    "data = [\n",
    "    {'Name': 'John Doe', 'Age': 30, 'City': 'New York'},\n",
    "    {'Name': 'Jane Smith', 'Age': 28, 'City': 'Los Angeles'},\n",
    "    {'Name': 'Bob Johnson', 'Age': 35, 'City': 'Chicago'}\n",
    "]\n",
    "\n",
    "# Define csv field names (column names)\n",
    "field_names = ['Name', 'Age', 'City']\n",
    "\n",
    "# Write data to the CSV file\n",
    "with open(csv_file_path, 'w', newline='') as file:\n",
    "    csv_writer = csv.DictWriter(file, fieldnames=field_names)\n",
    "    csv_writer.writeheader()\n",
    "    for row in data:\n",
    "        csv_writer.writerow(row)\n",
    "\n",
    "print(f'Data written to the CSV file : {csv_file_path} successfully.')"
   ]
  }
 ],
 "metadata": {
  "kernelspec": {
   "display_name": "Python 3",
   "language": "python",
   "name": "python3"
  },
  "language_info": {
   "codemirror_mode": {
    "name": "ipython",
    "version": 3
   },
   "file_extension": ".py",
   "mimetype": "text/x-python",
   "name": "python",
   "nbconvert_exporter": "python",
   "pygments_lexer": "ipython3",
   "version": "3.13.0"
  }
 },
 "nbformat": 4,
 "nbformat_minor": 2
}
