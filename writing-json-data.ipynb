{
 "cells": [
  {
   "cell_type": "code",
   "execution_count": 1,
   "metadata": {},
   "outputs": [
    {
     "name": "stdout",
     "output_type": "stream",
     "text": [
      "{\n",
      "    \"name\": \"John\",\n",
      "    \"age\": 30,\n",
      "    \"city\": \"New York\"\n",
      "} \n",
      " <class 'str'>\n"
     ]
    }
   ],
   "source": [
    "# Writing JSON data to a file\n",
    "import json\n",
    "\n",
    "data = {\n",
    "    'name': 'John',\n",
    "    'age': 30,\n",
    "    'city': 'New York'\n",
    "}\n",
    "\n",
    "with open('my_json_1.json', 'w') as file:\n",
    "    json_data = json.dumps(data, indent=4)\n",
    "    file.write(json_data)\n",
    "\n",
    "print(json_data, '\\n', type(json_data))\n",
    "\n",
    "# dumps() method converts dictionary to string\n",
    "# dump() method writes string to file (Ex: json.dump(data, file)) mean"
   ]
  }
 ],
 "metadata": {
  "kernelspec": {
   "display_name": "Python 3",
   "language": "python",
   "name": "python3"
  },
  "language_info": {
   "codemirror_mode": {
    "name": "ipython",
    "version": 3
   },
   "file_extension": ".py",
   "mimetype": "text/x-python",
   "name": "python",
   "nbconvert_exporter": "python",
   "pygments_lexer": "ipython3",
   "version": "3.13.0"
  }
 },
 "nbformat": 4,
 "nbformat_minor": 2
}
