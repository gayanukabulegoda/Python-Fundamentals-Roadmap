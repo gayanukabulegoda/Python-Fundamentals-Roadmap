{
 "cells": [
  {
   "cell_type": "code",
   "execution_count": 3,
   "metadata": {},
   "outputs": [
    {
     "name": "stdout",
     "output_type": "stream",
     "text": [
      "x is greater than 5\n"
     ]
    }
   ],
   "source": [
    "# Control flows\n",
    "\n",
    "# if statement\n",
    "x = 10\n",
    "if x > 5:\n",
    "    print(\"x is greater than 5\")"
   ]
  },
  {
   "cell_type": "code",
   "execution_count": 4,
   "metadata": {},
   "outputs": [
    {
     "name": "stdout",
     "output_type": "stream",
     "text": [
      "Even\n"
     ]
    }
   ],
   "source": [
    "# if-else statement\n",
    "\n",
    "x = input(\"Enter a number: \")\n",
    "if int(x) % 2 == 0:\n",
    "    print(\"Even\")\n",
    "else:\n",
    "    print(\"Odd\")"
   ]
  },
  {
   "cell_type": "code",
   "execution_count": null,
   "metadata": {},
   "outputs": [
    {
     "name": "stdout",
     "output_type": "stream",
     "text": [
      "Multiple of 7\n"
     ]
    }
   ],
   "source": [
    "# if-elif-else statement\n",
    "\n",
    "num = input(\"Enter a number: \")\n",
    "if int(num) < 0:\n",
    "    print(\"Not a positive number\")\n",
    "elif int(num) % 7 == 0:\n",
    "    print(\"Multiple of 7\")\n",
    "else:\n",
    "    print(\"Not a multiple of 7\")    "
   ]
  },
  {
   "cell_type": "code",
   "execution_count": 11,
   "metadata": {},
   "outputs": [
    {
     "name": "stdout",
     "output_type": "stream",
     "text": [
      "A\n"
     ]
    }
   ],
   "source": [
    "# find the grade of a student based on the mark\n",
    "\n",
    "mark = input(\"Enter your mark: \")\n",
    "if int(mark) < 0 or int(mark) > 100:\n",
    "    print(\"Invalid mark\")\n",
    "elif int(mark) >= 85:\n",
    "    print(\"A\")\n",
    "elif int(mark) >= 75:\n",
    "    print(\"B\")\n",
    "elif int(mark) >= 65:\n",
    "    print(\"C\")\n",
    "elif int(mark) >= 50:\n",
    "    print(\"D\")\n",
    "else:\n",
    "    print(\"F\")\n"
   ]
  }
 ],
 "metadata": {
  "kernelspec": {
   "display_name": "Python 3",
   "language": "python",
   "name": "python3"
  },
  "language_info": {
   "codemirror_mode": {
    "name": "ipython",
    "version": 3
   },
   "file_extension": ".py",
   "mimetype": "text/x-python",
   "name": "python",
   "nbconvert_exporter": "python",
   "pygments_lexer": "ipython3",
   "version": "3.13.0"
  }
 },
 "nbformat": 4,
 "nbformat_minor": 2
}
