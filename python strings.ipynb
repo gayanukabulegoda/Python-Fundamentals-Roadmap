{
 "cells": [
  {
   "cell_type": "code",
   "execution_count": null,
   "metadata": {},
   "outputs": [],
   "source": [
    "# Strings can be enclosed in single quotes or double quotes\n",
    "\n",
    "my_str_1 = \"hello\"\n",
    "my_str_2 = 'world'"
   ]
  },
  {
   "cell_type": "code",
   "execution_count": 2,
   "metadata": {},
   "outputs": [
    {
     "name": "stdout",
     "output_type": "stream",
     "text": [
      "I love computer programming,\n",
      "I love python programming,\n",
      "I love programming\n"
     ]
    }
   ],
   "source": [
    "''' multiline strings can be written using triple quotes or triple double quotes'''\n",
    "\n",
    "my_str = '''I love computer programming,\n",
    "I love python programming,\n",
    "I love programming'''\n",
    "\n",
    "print(my_str)"
   ]
  },
  {
   "cell_type": "code",
   "execution_count": 8,
   "metadata": {},
   "outputs": [
    {
     "name": "stdout",
     "output_type": "stream",
     "text": [
      "Hello World\n",
      "11\n",
      "o\n",
      "llo Wo\n"
     ]
    }
   ],
   "source": [
    "# Strings are actually lists\n",
    "\n",
    "my_str = \"Hello World\"\n",
    "print(my_str)\n",
    "print(len(my_str))\n",
    "print(my_str[4])\n",
    "print(my_str[2:8])"
   ]
  },
  {
   "cell_type": "code",
   "execution_count": null,
   "metadata": {},
   "outputs": [
    {
     "name": "stdout",
     "output_type": "stream",
     "text": [
      "HELLO WORLD\n",
      "hello world\n"
     ]
    }
   ],
   "source": [
    "# Strings to upper case and lower case\n",
    "\n",
    "my_str = \"Hello World\"\n",
    "print(my_str.upper())\n",
    "print(my_str.lower())"
   ]
  },
  {
   "cell_type": "code",
   "execution_count": null,
   "metadata": {},
   "outputs": [
    {
     "name": "stdout",
     "output_type": "stream",
     "text": [
      "   Hello World   \n",
      "Hello World\n"
     ]
    }
   ],
   "source": [
    "# strip() method removes any whitespace from the beginning or the end\n",
    "\n",
    "my_str = \"   Hello World   \"\n",
    "print(my_str)\n",
    "my_str = my_str.strip()\n",
    "print(my_str)"
   ]
  }
 ],
 "metadata": {
  "kernelspec": {
   "display_name": "Python 3",
   "language": "python",
   "name": "python3"
  },
  "language_info": {
   "codemirror_mode": {
    "name": "ipython",
    "version": 3
   },
   "file_extension": ".py",
   "mimetype": "text/x-python",
   "name": "python",
   "nbconvert_exporter": "python",
   "pygments_lexer": "ipython3",
   "version": "3.13.0"
  }
 },
 "nbformat": 4,
 "nbformat_minor": 2
}
