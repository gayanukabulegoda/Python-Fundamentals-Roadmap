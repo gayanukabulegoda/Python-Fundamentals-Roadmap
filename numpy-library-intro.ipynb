{
 "cells": [
  {
   "cell_type": "code",
   "execution_count": 3,
   "metadata": {},
   "outputs": [
    {
     "name": "stdout",
     "output_type": "stream",
     "text": [
      "[ 6 10 11  1]\n",
      "<class 'numpy.ndarray'>\n"
     ]
    }
   ],
   "source": [
    "# Creating a numpy array\n",
    "import numpy as np\n",
    "\n",
    "array_1 = np.array([6, 10, 11, 1])\n",
    "\n",
    "print(array_1)\n",
    "print(type(array_1))"
   ]
  },
  {
   "cell_type": "code",
   "execution_count": 2,
   "metadata": {},
   "outputs": [
    {
     "name": "stdout",
     "output_type": "stream",
     "text": [
      "[ 8 13 15  6]\n",
      "[ 8 13 15  6]\n"
     ]
    }
   ],
   "source": [
    "# Adding indexs of 2 arrays using numpy\n",
    "import numpy as np\n",
    "\n",
    "array_1 = np.array([6, 10, 11, 1])\n",
    "array_2 = np.array([2, 3, 4, 5])\n",
    "\n",
    "sum_array = array_1 + array_2\n",
    "print(sum_array)\n",
    "\n",
    "# ------ Or ------\n",
    "sum_array = np.add(array_1, array_2)\n",
    "print(sum_array)"
   ]
  },
  {
   "cell_type": "code",
   "execution_count": 1,
   "metadata": {},
   "outputs": [
    {
     "name": "stdout",
     "output_type": "stream",
     "text": [
      "[ 4  7  7 -4]\n",
      "[ 4  7  7 -4]\n"
     ]
    }
   ],
   "source": [
    "# Subtracting indexs of 2 arrays using numpy\n",
    "import numpy as np\n",
    "\n",
    "array_1 = np.array([6, 10, 11, 1])\n",
    "array_2 = np.array([2, 3, 4, 5])\n",
    "\n",
    "sub_array = array_1 - array_2\n",
    "print(sub_array)\n",
    "\n",
    "# ------ Or ------\n",
    "sub_array = np.subtract(array_1, array_2)\n",
    "print(sub_array)"
   ]
  },
  {
   "cell_type": "code",
   "execution_count": 3,
   "metadata": {},
   "outputs": [
    {
     "name": "stdout",
     "output_type": "stream",
     "text": [
      "[12 30 44  5]\n",
      "[12 30 44  5]\n"
     ]
    }
   ],
   "source": [
    "# Multiplying indexs of 2 arrays using numpy\n",
    "import numpy as np\n",
    "\n",
    "array_1 = np.array([6, 10, 11, 1])\n",
    "array_2 = np.array([2, 3, 4, 5])\n",
    "\n",
    "mul_array = array_1 * array_2\n",
    "print(mul_array)\n",
    "\n",
    "# ------ Or ------\n",
    "mul_array = np.multiply(array_1, array_2)\n",
    "print(mul_array)"
   ]
  },
  {
   "cell_type": "code",
   "execution_count": 4,
   "metadata": {},
   "outputs": [
    {
     "name": "stdout",
     "output_type": "stream",
     "text": [
      "[3.         3.33333333 2.75       0.2       ]\n",
      "[3.         3.33333333 2.75       0.2       ]\n"
     ]
    }
   ],
   "source": [
    "# Dividing indexs of 2 arrays using numpy\n",
    "import numpy as np\n",
    "\n",
    "array_1 = np.array([6, 10, 11, 1])\n",
    "array_2 = np.array([2, 3, 4, 5])\n",
    "\n",
    "div_array = array_1 / array_2\n",
    "print(div_array)\n",
    "\n",
    "# ------ Or ------\n",
    "div_array = np.divide(array_1, array_2)\n",
    "print(div_array)"
   ]
  },
  {
   "cell_type": "code",
   "execution_count": 12,
   "metadata": {},
   "outputs": [
    {
     "name": "stdout",
     "output_type": "stream",
     "text": [
      "[ 36 100 121   1]\n",
      "[ 36 100 121   1]\n"
     ]
    }
   ],
   "source": [
    "# Getting the root of an array using numpy\n",
    "import numpy as np\n",
    "\n",
    "array_1 = np.array([6, 10, 11, 1])\n",
    "\n",
    "root_array = np.power(array_1, 2)\n",
    "print(root_array)\n",
    "\n",
    "# ------ Or ------\n",
    "root_array = array_1 ** 2\n",
    "print(root_array)"
   ]
  },
  {
   "cell_type": "code",
   "execution_count": 10,
   "metadata": {},
   "outputs": [
    {
     "name": "stdout",
     "output_type": "stream",
     "text": [
      "[2.44948974 3.16227766 3.31662479 1.        ]\n",
      "[2.44948974 3.16227766 3.31662479 1.        ]\n"
     ]
    }
   ],
   "source": [
    "# Getting square root of an array using numpy\n",
    "import numpy as np\n",
    "\n",
    "array_1 = np.array([6, 10, 11, 1])\n",
    "\n",
    "sqrt_array = np.sqrt(array_1)\n",
    "print(sqrt_array)\n",
    "\n",
    "# ------ Or ------\n",
    "sqrt_array = array_1 ** 0.5\n",
    "print(sqrt_array)"
   ]
  },
  {
   "cell_type": "code",
   "execution_count": 13,
   "metadata": {},
   "outputs": [
    {
     "name": "stdout",
     "output_type": "stream",
     "text": [
      "28\n"
     ]
    }
   ],
   "source": [
    "# Getting the sum of an array using numpy\n",
    "import numpy as np\n",
    "\n",
    "array_1 = np.array([6, 10, 11, 1])\n",
    "\n",
    "sum_array = np.sum(array_1)\n",
    "print(sum_array)"
   ]
  },
  {
   "cell_type": "code",
   "execution_count": 3,
   "metadata": {},
   "outputs": [
    {
     "name": "stdout",
     "output_type": "stream",
     "text": [
      "7.0\n"
     ]
    }
   ],
   "source": [
    "# Getting the mean of an array using numpy\n",
    "import numpy as np\n",
    "\n",
    "array_1 = np.array([6, 10, 11, 1])\n",
    "\n",
    "mean_array = np.mean(array_1)\n",
    "print(mean_array)"
   ]
  },
  {
   "cell_type": "code",
   "execution_count": 16,
   "metadata": {},
   "outputs": [
    {
     "name": "stdout",
     "output_type": "stream",
     "text": [
      "8.0\n"
     ]
    }
   ],
   "source": [
    "# Getting the median of an array using numpy\n",
    "import numpy as np\n",
    "\n",
    "array_1 = np.array([6, 10, 11, 1])\n",
    "\n",
    "median_array = np.median(array_1)\n",
    "print(median_array)"
   ]
  },
  {
   "cell_type": "code",
   "execution_count": 5,
   "metadata": {},
   "outputs": [
    {
     "name": "stdout",
     "output_type": "stream",
     "text": [
      "11\n"
     ]
    }
   ],
   "source": [
    "# Getting maximum value of an array using numpy\n",
    "import numpy as np\n",
    "\n",
    "array_1 = np.array([6, 10, 11, 1])\n",
    "\n",
    "max_array = np.max(array_1)\n",
    "print(max_array)"
   ]
  },
  {
   "cell_type": "code",
   "execution_count": 17,
   "metadata": {},
   "outputs": [
    {
     "name": "stdout",
     "output_type": "stream",
     "text": [
      "1\n"
     ]
    }
   ],
   "source": [
    "# Getting minimum value of an array using numpy\n",
    "import numpy as np\n",
    "\n",
    "array_1 = np.array([6, 10, 11, 1])\n",
    "\n",
    "min_array = np.min(array_1)\n",
    "print(min_array)"
   ]
  }
 ],
 "metadata": {
  "kernelspec": {
   "display_name": "Python 3",
   "language": "python",
   "name": "python3"
  },
  "language_info": {
   "codemirror_mode": {
    "name": "ipython",
    "version": 3
   },
   "file_extension": ".py",
   "mimetype": "text/x-python",
   "name": "python",
   "nbconvert_exporter": "python",
   "pygments_lexer": "ipython3",
   "version": "3.12.6"
  }
 },
 "nbformat": 4,
 "nbformat_minor": 2
}
