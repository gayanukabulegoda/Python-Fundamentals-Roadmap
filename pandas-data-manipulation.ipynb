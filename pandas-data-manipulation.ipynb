{
 "cells": [
  {
   "cell_type": "code",
   "execution_count": 5,
   "metadata": {},
   "outputs": [
    {
     "name": "stdout",
     "output_type": "stream",
     "text": [
      "    Name  Age  Salary\n",
      "0   John   23    1000\n",
      "1   Anna   34    2000\n",
      "2  Peter   45    3000\n",
      "3  Linda   56    4000\n"
     ]
    }
   ],
   "source": [
    "# Sort and filter data in a pandas DataFrame\n",
    "import pandas as pd\n",
    "\n",
    "people = {\n",
    "    \"Name\" : [\"John\", \"Anna\", \"Peter\", \"Linda\"],\n",
    "    \"Age\" : [23, 34, 45, 56],\n",
    "}\n",
    "\n",
    "df = pd.DataFrame(people)\n",
    "\n",
    "# Filtered data\n",
    "youung_people = df[\"Age\"] < 30\n",
    "\n",
    "# Sorting data\n",
    "sorted_df = df.sort_values(by=\"Age\", ascending=False)\n",
    "\n",
    "# Adding a new column\n",
    "df[\"Salary\"] = [1000, 2000, 3000, 4000]\n",
    "\n",
    "print(df)"
   ]
  },
  {
   "cell_type": "code",
   "execution_count": 3,
   "metadata": {},
   "outputs": [
    {
     "name": "stdout",
     "output_type": "stream",
     "text": [
      "   A  B\n",
      "0  1  3\n",
      "1  7  8\n",
      "2  5  6\n"
     ]
    }
   ],
   "source": [
    "# Adding a new row to a DataFrame\n",
    "import pandas as pd\n",
    "\n",
    "df = pd.DataFrame({'A' : [1, 2], 'B' : [3, 4]})\n",
    "\n",
    "# Adding a new row with 'loc'\n",
    "df.loc[len(df)] = [5, 6]\n",
    "\n",
    "# Replacing a row\n",
    "df.loc[1] = [7, 8]\n",
    "\n",
    "print(df)"
   ]
  },
  {
   "cell_type": "code",
   "execution_count": 6,
   "metadata": {},
   "outputs": [
    {
     "name": "stdout",
     "output_type": "stream",
     "text": [
      "   A\n",
      "0  1\n",
      "1  2 \n",
      "\n",
      "   A  B\n",
      "0  1  3\n",
      "1  2  4 \n",
      "\n",
      "   A\n",
      "0  1\n",
      "1  2\n"
     ]
    }
   ],
   "source": [
    "# Removing a column\n",
    "import pandas as pd\n",
    "\n",
    "df = pd.DataFrame({'A' : [1, 2], 'B' : [3, 4]})\n",
    "df_dropped = df.drop('B', axis=1)\n",
    "print(df_dropped, \"\\n\")\n",
    "print(df, \"\\n\")\n",
    "\n",
    "# Removing a column permanently from a DataFrame\n",
    "df_dropped = df.drop('B', axis=1, inplace=True)\n",
    "print(df)"
   ]
  },
  {
   "cell_type": "code",
   "execution_count": 7,
   "metadata": {},
   "outputs": [
    {
     "name": "stdout",
     "output_type": "stream",
     "text": [
      "   A  B\n",
      "0  1  3 \n",
      "\n",
      "   A  B\n",
      "0  1  3\n",
      "1  2  4 \n",
      "\n",
      "   A  B\n",
      "0  1  3\n"
     ]
    }
   ],
   "source": [
    "# Removing a row\n",
    "import pandas as pd\n",
    "\n",
    "df = pd.DataFrame({'A' : [1, 2], 'B' : [3, 4]})\n",
    "df_dropped = df.drop(1, axis=0)\n",
    "print(df_dropped, \"\\n\")\n",
    "print(df, \"\\n\")\n",
    "\n",
    "# Removing a row permanently from a DataFrame\n",
    "df.drop(1, axis=0, inplace=True)\n",
    "print(df)"
   ]
  },
  {
   "cell_type": "code",
   "execution_count": 8,
   "metadata": {},
   "outputs": [
    {
     "name": "stdout",
     "output_type": "stream",
     "text": [
      "Empty DataFrame\n",
      "Columns: [A, B]\n",
      "Index: [] \n",
      "\n",
      "   A  B\n",
      "0  1  3\n",
      "1  2  4 \n",
      "\n",
      "Empty DataFrame\n",
      "Columns: [A, B]\n",
      "Index: []\n"
     ]
    }
   ],
   "source": [
    "# Removing row list\n",
    "import pandas as pd\n",
    "\n",
    "df = pd.DataFrame({'A' : [1, 2], 'B' : [3, 4]})\n",
    "df_dropped = df.drop([0, 1], axis=0)\n",
    "print(df_dropped, \"\\n\")\n",
    "print(df, \"\\n\")\n",
    "\n",
    "# Removing row list permanently from a DataFrame\n",
    "df.drop([0, 1], axis=0, inplace=True)\n",
    "print(df)"
   ]
  }
 ],
 "metadata": {
  "kernelspec": {
   "display_name": "Python 3",
   "language": "python",
   "name": "python3"
  },
  "language_info": {
   "codemirror_mode": {
    "name": "ipython",
    "version": 3
   },
   "file_extension": ".py",
   "mimetype": "text/x-python",
   "name": "python",
   "nbconvert_exporter": "python",
   "pygments_lexer": "ipython3",
   "version": "3.12.6"
  }
 },
 "nbformat": 4,
 "nbformat_minor": 2
}
