{
 "cells": [
  {
   "cell_type": "code",
   "execution_count": 4,
   "metadata": {},
   "outputs": [
    {
     "name": "stdout",
     "output_type": "stream",
     "text": [
      "['EmployeeID', 'Name', 'Department', 'Salary']\n",
      "['1', 'John', 'IT', '60000']\n",
      "['2', 'Jane', 'HR', '55000']\n",
      "['3', 'Mike', 'Finance', '70000']\n",
      "['4', 'Linda', 'IT', '65000']\n",
      "Records written successfully\n"
     ]
    }
   ],
   "source": [
    "'''\n",
    "--- Manage employee records with csv ---\n",
    "\n",
    "Your task is to create a python program to manage a company's employee records stored in csv file.\n",
    "The program should read the employee details from a csv file. Filter the records based on a condition \n",
    "and write the filtered records to a new csv file.\n",
    "\n",
    "Files provided:\n",
    "    - input file employees.csv\n",
    "    - contains the following fields\n",
    "        - EmployeeID, Name, Department, Salary\n",
    "        \n",
    "    - Example sample;\n",
    "        | EmployeeID |   Name   | Department | Salary |\n",
    "        |     1      |   John   |     IT     | 60000  |\n",
    "        |     2      |   Jane   |     HR     | 55000  |\n",
    "        |     3      |   Mike   |  Finance   | 70000  |\n",
    "        |     4      |   Linda  |     IT     | 65000  |\n",
    "        \n",
    "    - output file high-salary-employees.csv\n",
    "    - you will create this file. It should contain records of employees whose salaries are above 60000, the field should remain the same\n",
    "    - Task\n",
    "        1. Read the input file\n",
    "            - use csv.reader() to read employees.csv and display-all-the-records\n",
    "        \n",
    "        2. Filter the records.\n",
    "            - Identify employees with the salary greater than 60000\n",
    "            \n",
    "        3. Write the filtered records.\n",
    "            - use csv.DictWriter to write the filtered resources to a new file name high-salary-employees.csv\n",
    "'''\n",
    "import csv\n",
    "\n",
    "csv_file_path = \"employees.csv\"\n",
    "\n",
    "def read_records():\n",
    "    with open(csv_file_path, 'r', newline='') as file:\n",
    "        csv_reader = csv.reader(file)\n",
    "        for row in csv_reader:\n",
    "            print(row)\n",
    "\n",
    "def filter_records():\n",
    "    with open(csv_file_path, 'r', newline='') as file:\n",
    "        csv_reader = csv.DictReader(file)\n",
    "        high_salary_employees = []\n",
    "        for row in csv_reader:\n",
    "            if int(row['Salary']) > 60000:\n",
    "                high_salary_employees.append(row)\n",
    "        \n",
    "    return high_salary_employees\n",
    "\n",
    "def write_records(high_salary_employees):\n",
    "    field_names = ['EmployeeID', 'Name', 'Department', 'Salary']\n",
    "\n",
    "    with open('high-salary-employees.csv', 'w', newline='') as file:\n",
    "        csv_writer = csv.DictWriter(file, fieldnames=field_names)\n",
    "        csv_writer.writeheader()\n",
    "        for employee in high_salary_employees:\n",
    "            csv_writer.writerow(employee)\n",
    "\n",
    "        print(\"Records written successfully\")\n",
    "\n",
    "if __name__ == \"__main__\":\n",
    "    read_records()\n",
    "    high_salary_employees = filter_records()\n",
    "    write_records(high_salary_employees)"
   ]
  }
 ],
 "metadata": {
  "kernelspec": {
   "display_name": "Python 3",
   "language": "python",
   "name": "python3"
  },
  "language_info": {
   "codemirror_mode": {
    "name": "ipython",
    "version": 3
   },
   "file_extension": ".py",
   "mimetype": "text/x-python",
   "name": "python",
   "nbconvert_exporter": "python",
   "pygments_lexer": "ipython3",
   "version": "3.13.0"
  }
 },
 "nbformat": 4,
 "nbformat_minor": 2
}
