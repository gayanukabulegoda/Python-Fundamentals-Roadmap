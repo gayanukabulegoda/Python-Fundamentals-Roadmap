{
 "cells": [
  {
   "cell_type": "code",
   "execution_count": 1,
   "metadata": {},
   "outputs": [
    {
     "name": "stdout",
     "output_type": "stream",
     "text": [
      "8\n",
      "9\n",
      "3\n"
     ]
    }
   ],
   "source": [
    "# break keyword\n",
    "\n",
    "my_list = [8, 9, 3, 0, 12, 15]\n",
    "\n",
    "for item in my_list:\n",
    "    if item == 0:\n",
    "        break\n",
    "    else:\n",
    "        print(item)"
   ]
  },
  {
   "cell_type": "code",
   "execution_count": 2,
   "metadata": {},
   "outputs": [
    {
     "name": "stdout",
     "output_type": "stream",
     "text": [
      "8\n",
      "9\n",
      "3\n",
      "12\n",
      "15\n"
     ]
    }
   ],
   "source": [
    "# continue keyword\n",
    "\n",
    "my_list = [8, 9, 3, 0, 12, 15]\n",
    "\n",
    "for item in my_list:\n",
    "    if item == 0:\n",
    "        continue\n",
    "    else:\n",
    "        print(item)"
   ]
  },
  {
   "cell_type": "code",
   "execution_count": null,
   "metadata": {},
   "outputs": [
    {
     "name": "stdout",
     "output_type": "stream",
     "text": [
      "4\n"
     ]
    }
   ],
   "source": [
    "# contineously print square of entered number until 0 is entered\n",
    "\n",
    "while True:\n",
    "    entered_value = int(input(\"Enter a number: \"))\n",
    "    if entered_value == 0:\n",
    "        break\n",
    "    else:\n",
    "        print(entered_value * entered_value)    "
   ]
  }
 ],
 "metadata": {
  "kernelspec": {
   "display_name": "Python 3",
   "language": "python",
   "name": "python3"
  },
  "language_info": {
   "codemirror_mode": {
    "name": "ipython",
    "version": 3
   },
   "file_extension": ".py",
   "mimetype": "text/x-python",
   "name": "python",
   "nbconvert_exporter": "python",
   "pygments_lexer": "ipython3",
   "version": "3.13.0"
  }
 },
 "nbformat": 4,
 "nbformat_minor": 2
}
