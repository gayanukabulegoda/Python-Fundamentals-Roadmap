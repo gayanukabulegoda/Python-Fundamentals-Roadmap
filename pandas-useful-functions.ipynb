{
 "cells": [
  {
   "cell_type": "code",
   "execution_count": 4,
   "metadata": {},
   "outputs": [
    {
     "name": "stdout",
     "output_type": "stream",
     "text": [
      "Length of DataFrame:  5\n"
     ]
    }
   ],
   "source": [
    "# len() function\n",
    "import pandas as pd\n",
    "\n",
    "data = {'name': ['Jason', 'Molly', 'Tina', 'Jake', 'Amy'],\n",
    "        'year': [2012, 2012, 2013, 2014, 2014],\n",
    "        'reports': [4, 24, 31, 2, 3]}\n",
    "\n",
    "df = pd.DataFrame(data)\n",
    "print(\"Length of DataFrame: \", len(df))"
   ]
  },
  {
   "cell_type": "code",
   "execution_count": 5,
   "metadata": {},
   "outputs": [
    {
     "name": "stdout",
     "output_type": "stream",
     "text": [
      "Mean of DataFrame:  12.8\n",
      "Mean of DataFrame:  12.8\n"
     ]
    }
   ],
   "source": [
    "# mean() function\n",
    "print(\"Mean of DataFrame: \", df['reports'].mean())\n",
    "print(\"Mean of DataFrame: \", df.reports.mean())"
   ]
  },
  {
   "cell_type": "code",
   "execution_count": 7,
   "metadata": {},
   "outputs": [
    {
     "name": "stdout",
     "output_type": "stream",
     "text": [
      "Sum of Reports in DataFrame:  64\n"
     ]
    }
   ],
   "source": [
    "# sum() function\n",
    "print(\"Sum of Reports in DataFrame: \", df['reports'].sum())"
   ]
  },
  {
   "cell_type": "code",
   "execution_count": 9,
   "metadata": {},
   "outputs": [
    {
     "name": "stdout",
     "output_type": "stream",
     "text": [
      "Maximum of Reports in DataFrame:  31\n"
     ]
    }
   ],
   "source": [
    "# max() function\n",
    "print(\"Maximum of Reports in DataFrame: \", df['reports'].max())"
   ]
  },
  {
   "cell_type": "code",
   "execution_count": 10,
   "metadata": {},
   "outputs": [
    {
     "name": "stdout",
     "output_type": "stream",
     "text": [
      "Minimum of Reports in DataFrame:  2\n"
     ]
    }
   ],
   "source": [
    "# min() function\n",
    "print(\"Minimum of Reports in DataFrame: \", df['reports'].min())"
   ]
  },
  {
   "cell_type": "code",
   "execution_count": 11,
   "metadata": {},
   "outputs": [
    {
     "name": "stdout",
     "output_type": "stream",
     "text": [
      "Median of Reports in DataFrame:  4.0\n"
     ]
    }
   ],
   "source": [
    "# median() function\n",
    "print(\"Median of Reports in DataFrame: \", df['reports'].median())"
   ]
  },
  {
   "cell_type": "code",
   "execution_count": 8,
   "metadata": {},
   "outputs": [
    {
     "name": "stdout",
     "output_type": "stream",
     "text": [
      "Description of DataFrame:           year    reports\n",
      "count     5.0   5.000000\n",
      "mean   2013.0  12.800000\n",
      "std       1.0  13.663821\n",
      "min    2012.0   2.000000\n",
      "25%    2012.0   3.000000\n",
      "50%    2013.0   4.000000\n",
      "75%    2014.0  24.000000\n",
      "max    2014.0  31.000000\n"
     ]
    }
   ],
   "source": [
    "# describe() function\n",
    "print(\"Description of DataFrame: \", df.describe())"
   ]
  }
 ],
 "metadata": {
  "kernelspec": {
   "display_name": "Python 3",
   "language": "python",
   "name": "python3"
  },
  "language_info": {
   "codemirror_mode": {
    "name": "ipython",
    "version": 3
   },
   "file_extension": ".py",
   "mimetype": "text/x-python",
   "name": "python",
   "nbconvert_exporter": "python",
   "pygments_lexer": "ipython3",
   "version": "3.12.6"
  }
 },
 "nbformat": 4,
 "nbformat_minor": 2
}
