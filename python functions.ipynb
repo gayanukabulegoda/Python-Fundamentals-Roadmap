{
 "cells": [
  {
   "cell_type": "code",
   "execution_count": null,
   "metadata": {},
   "outputs": [
    {
     "name": "stdout",
     "output_type": "stream",
     "text": [
      "31.400000000000002\n"
     ]
    }
   ],
   "source": [
    "# circumference of a circle (2*pi*r)\n",
    "\n",
    "def calculate_circumference(radius):\n",
    "    return 2 * 3.14 * radius\n",
    "print(calculate_circumference(5))"
   ]
  },
  {
   "cell_type": "code",
   "execution_count": null,
   "metadata": {},
   "outputs": [
    {
     "name": "stdout",
     "output_type": "stream",
     "text": [
      "78.5\n"
     ]
    }
   ],
   "source": [
    "# area of a circle (pi*r^2)\n",
    "\n",
    "def calculate_area(radius):\n",
    "    return 3.14 * radius ** 2\n",
    "print(calculate_area(5))"
   ]
  },
  {
   "cell_type": "code",
   "execution_count": 4,
   "metadata": {},
   "outputs": [
    {
     "name": "stdout",
     "output_type": "stream",
     "text": [
      "10\n",
      "18\n"
     ]
    }
   ],
   "source": [
    "# default arguments\n",
    "\n",
    "def add_numbers(a, b=2, c=3):\n",
    "    return a + b + c\n",
    "\n",
    "print(add_numbers(5))\n",
    "print(add_numbers(5, 10))"
   ]
  },
  {
   "cell_type": "code",
   "execution_count": 5,
   "metadata": {},
   "outputs": [
    {
     "name": "stdout",
     "output_type": "stream",
     "text": [
      "30\n"
     ]
    }
   ],
   "source": [
    "# Positional arguments\n",
    "\n",
    "def add_numbers(a, b, c):\n",
    "    return a + b + c\n",
    "\n",
    "print(add_numbers(5, 10, 15))"
   ]
  },
  {
   "cell_type": "code",
   "execution_count": 7,
   "metadata": {},
   "outputs": [
    {
     "name": "stdout",
     "output_type": "stream",
     "text": [
      "30\n"
     ]
    }
   ],
   "source": [
    "# Keyword arguments\n",
    "\n",
    "def add_numbers(a, b, c):\n",
    "    return a + b + c\n",
    "\n",
    "print(add_numbers(c=15, a=5, b=10))"
   ]
  },
  {
   "cell_type": "code",
   "execution_count": null,
   "metadata": {},
   "outputs": [
    {
     "name": "stdout",
     "output_type": "stream",
     "text": [
      "200.0\n"
     ]
    }
   ],
   "source": [
    "# calculate cost with optional discount and tax\n",
    "\n",
    "def calculate_cost(price, quantity, discount=0, tax=0):\n",
    "    total_cost = (price * quantity) - (price * quantity * discount / 100)\n",
    "    total_cost_with_tax = total_cost + (total_cost * tax / 100)\n",
    "    return total_cost_with_tax\n",
    "\n",
    "price = float(input(\"Enter the price: \"))\n",
    "quantity = int(input(\"Enter the quantity: \"))\n",
    "\n",
    "discount_input = input(\"Enter the discount (press Enter to skip): \")\n",
    "tax_input = input(\"Enter the tax (press Enter to skip): \")\n",
    "\n",
    "discount = float(discount_input) if discount_input else 0\n",
    "tax = float(tax_input) if tax_input else 0\n",
    "\n",
    "print(calculate_cost(price=price, quantity=quantity, discount=discount, tax=tax))"
   ]
  }
 ],
 "metadata": {
  "kernelspec": {
   "display_name": "Python 3",
   "language": "python",
   "name": "python3"
  },
  "language_info": {
   "codemirror_mode": {
    "name": "ipython",
    "version": 3
   },
   "file_extension": ".py",
   "mimetype": "text/x-python",
   "name": "python",
   "nbconvert_exporter": "python",
   "pygments_lexer": "ipython3",
   "version": "3.13.0"
  }
 },
 "nbformat": 4,
 "nbformat_minor": 2
}
