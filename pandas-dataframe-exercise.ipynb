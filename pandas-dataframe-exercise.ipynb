{
 "cells": [
  {
   "cell_type": "code",
   "execution_count": null,
   "metadata": {},
   "outputs": [
    {
     "name": "stdout",
     "output_type": "stream",
     "text": [
      "   Order ID     Product     Category  Quantity  Price  Total Revenue\n",
      "0      10.1      Laptop  Electronics         1   1000           1000\n",
      "1      10.2  SmartPhone  Electronics         2    800           1600\n",
      "2      10.3  Desk Chair    Furniture         1    150            150\n",
      "3      10.4     Monitor  Electronics         1    200            200\n",
      "4      10.5   Bookshelf    Furniture         2    300            600 \n",
      "\n",
      "   Order ID     Product     Category  Quantity  Price  Total Revenue\n",
      "1      10.2  SmartPhone  Electronics         2    800           1600\n",
      "4      10.5   Bookshelf    Furniture         2    300            600\n"
     ]
    }
   ],
   "source": [
    "'''\n",
    "Order ID   Product     Category    Quantity    Price (per unit)\n",
    "  10.1     Laptop      Electronics  1           1000\n",
    "  10.2     SmartPhone  Electronics  2           800\n",
    "  10.3     Desk Chair  Furniture    1           150\n",
    "  10.4     Monitor     Electronics  1           200\n",
    "  10.5     Bookshelf   Furniture    2           300\n",
    "\n",
    "You're a data analysisit for a retail company. The company has provided you with the following table containing cell's data.\n",
    "Task\n",
    "    1. Use Pandas to load above table into a dataframe.\n",
    "    2. Add a new column Total Revenue, that calculates the total revenue for each order. \n",
    "    3. Identify the best selling product(s).\n",
    "'''\n",
    "\n",
    "import pandas as pd\n",
    "\n",
    "data = {\n",
    "    'Order ID': [10.1, 10.2, 10.3, 10.4, 10.5],\n",
    "    'Product': ['Laptop', 'SmartPhone', 'Desk Chair', 'Monitor', 'Bookshelf'],\n",
    "    'Category': ['Electronics', 'Electronics', 'Furniture', 'Electronics', 'Furniture'],\n",
    "    'Quantity': [1, 2, 1, 1, 2],\n",
    "    'Price': [1000, 800, 150, 200, 300]\n",
    "}\n",
    "\n",
    "df = pd.DataFrame(data)\n",
    "df['Total Revenue'] = df['Quantity'] * df ['Price']\n",
    "print(df, '\\n')\n",
    "\n",
    "best_selling_product = df[df['Quantity'] == df['Quantity'].max()]\n",
    "print(best_selling_product)"
   ]
  }
 ],
 "metadata": {
  "kernelspec": {
   "display_name": "Python 3",
   "language": "python",
   "name": "python3"
  },
  "language_info": {
   "codemirror_mode": {
    "name": "ipython",
    "version": 3
   },
   "file_extension": ".py",
   "mimetype": "text/x-python",
   "name": "python",
   "nbconvert_exporter": "python",
   "pygments_lexer": "ipython3",
   "version": "3.12.6"
  }
 },
 "nbformat": 4,
 "nbformat_minor": 2
}
