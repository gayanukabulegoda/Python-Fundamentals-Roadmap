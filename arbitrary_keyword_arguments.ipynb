{
 "cells": [
  {
   "cell_type": "code",
   "execution_count": 1,
   "metadata": {},
   "outputs": [
    {
     "name": "stdout",
     "output_type": "stream",
     "text": [
      "{'a': 1, 'b': 2, 'c': 3} <class 'dict'>\n"
     ]
    }
   ],
   "source": [
    "def arbitrary_keyword_arguments(**kwargs):\n",
    "    print(kwargs, type(kwargs))\n",
    "\n",
    "arbitrary_keyword_arguments(a=1, b=2, c=3)"
   ]
  },
  {
   "cell_type": "code",
   "execution_count": 3,
   "metadata": {},
   "outputs": [
    {
     "name": "stdout",
     "output_type": "stream",
     "text": [
      "a ::: 1\n",
      "b ::: 2\n",
      "c ::: 3\n"
     ]
    }
   ],
   "source": [
    "# print key and value separately\n",
    "def arbitrary_keyword_arguments(**kwargs):\n",
    "    for key, value in kwargs.items():\n",
    "        print(key, \":::\", value)\n",
    "\n",
    "arbitrary_keyword_arguments(a=1, b=2, c=3)"
   ]
  },
  {
   "cell_type": "code",
   "execution_count": 20,
   "metadata": {},
   "outputs": [
    {
     "name": "stdout",
     "output_type": "stream",
     "text": [
      "name : John Doe\n",
      "age : 30\n",
      "department : HR\n",
      "salary : 50000\n"
     ]
    },
    {
     "data": {
      "text/plain": [
       "{'name': 'John Doe', 'age': 30, 'department': 'HR', 'salary': 50000}"
      ]
     },
     "execution_count": 20,
     "metadata": {},
     "output_type": "execute_result"
    }
   ],
   "source": [
    "'''Employee Manageemnt System\n",
    "\n",
    "Write a python program called employee_info that accept a required 'name' parameter and an arbitrary \n",
    "number of keyword arguments representing additional details about the employee. The function should,\n",
    "\n",
    "1. Print the name of the employee\n",
    "2. Iterate through the keyword arguments and print each key and value pair in the format <key> : <value>\n",
    "\n",
    "Modify the employee_info function to return a dictionary containing all the employee details \n",
    "(including name and the additional attributes passed via kwargs).'''\n",
    "\n",
    "def employee_info(name, **kwargs):\n",
    "    print(\"name :\", name)\n",
    "    for key, value in kwargs.items():\n",
    "        print(key, \":\", value)\n",
    "    return {\"name\" : name} | kwargs\n",
    "\n",
    "employee_info(\"John Doe\", age=30, department=\"HR\", salary=50000)\n"
   ]
  }
 ],
 "metadata": {
  "kernelspec": {
   "display_name": "Python 3",
   "language": "python",
   "name": "python3"
  },
  "language_info": {
   "codemirror_mode": {
    "name": "ipython",
    "version": 3
   },
   "file_extension": ".py",
   "mimetype": "text/x-python",
   "name": "python",
   "nbconvert_exporter": "python",
   "pygments_lexer": "ipython3",
   "version": "3.13.0"
  }
 },
 "nbformat": 4,
 "nbformat_minor": 2
}
