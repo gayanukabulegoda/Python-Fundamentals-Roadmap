{
 "cells": [
  {
   "cell_type": "code",
   "execution_count": 6,
   "metadata": {},
   "outputs": [
    {
     "name": "stdout",
     "output_type": "stream",
     "text": [
      "factorial via while loop: 24\n"
     ]
    }
   ],
   "source": [
    "# factorial via while loop\n",
    "\n",
    "input_num = int(input(\"Enter a number: \"))\n",
    "\n",
    "def factorial_while(num):\n",
    "    result = 1\n",
    "    while num > 0:\n",
    "        result *= num\n",
    "        num -= 1\n",
    "    return result\n",
    "\n",
    "print(\"factorial via while loop:\", factorial_while(input_num))\n"
   ]
  },
  {
   "cell_type": "code",
   "execution_count": 7,
   "metadata": {},
   "outputs": [
    {
     "name": "stdout",
     "output_type": "stream",
     "text": [
      "factorial via recursive function 24\n"
     ]
    }
   ],
   "source": [
    "# factorial via recursive function\n",
    "\n",
    "input_num = int(input(\"Enter a number: \"))\n",
    "\n",
    "def factorial(num):\n",
    "    if num == 0:\n",
    "        return 1\n",
    "    else:\n",
    "        return num * factorial(num - 1)\n",
    "\n",
    "print(\"factorial via recursive function\", factorial(input_num))"
   ]
  },
  {
   "cell_type": "code",
   "execution_count": 18,
   "metadata": {},
   "outputs": [
    {
     "name": "stdout",
     "output_type": "stream",
     "text": [
      "120\n"
     ]
    }
   ],
   "source": [
    "# finding factorial number\n",
    "\n",
    "def find_factorial(n):\n",
    "    if n == 0 or n == 1:\n",
    "        return 1\n",
    "    else:\n",
    "        return n * find_factorial(n - 1)\n",
    "    \n",
    "print(find_factorial(5))"
   ]
  },
  {
   "cell_type": "code",
   "execution_count": null,
   "metadata": {},
   "outputs": [
    {
     "name": "stdout",
     "output_type": "stream",
     "text": [
      "15\n"
     ]
    }
   ],
   "source": [
    "# Calcualte the sum of all the elements in a list or array\n",
    "\n",
    "def sum_list(my_list):\n",
    "    if len(my_list) == 1:\n",
    "        return my_list[0]\n",
    "    else:\n",
    "        return my_list[0] + sum_list(my_list[1:])\n",
    "    \n",
    "print(sum_list([1, 2, 3, 4, 5]))"
   ]
  },
  {
   "cell_type": "code",
   "execution_count": 21,
   "metadata": {},
   "outputs": [
    {
     "name": "stdout",
     "output_type": "stream",
     "text": [
      "3\n"
     ]
    }
   ],
   "source": [
    "'''Implement a recursive function to generate the nth number in the Fibonacci sequence. \n",
    "The Fibonacci sequence starts with 0 and 1, and each subsequent number is the sum of the two precending ones'''\n",
    "\n",
    "def find_fibonacci_sequence(n):\n",
    "    if n == 0:\n",
    "        return 0\n",
    "    elif n == 1:\n",
    "        return 1\n",
    "    else:\n",
    "        return find_fibonacci_sequence(n - 1) + find_fibonacci_sequence(n - 2)\n",
    "    \n",
    "print(find_fibonacci_sequence(4))"
   ]
  }
 ],
 "metadata": {
  "kernelspec": {
   "display_name": "Python 3",
   "language": "python",
   "name": "python3"
  },
  "language_info": {
   "codemirror_mode": {
    "name": "ipython",
    "version": 3
   },
   "file_extension": ".py",
   "mimetype": "text/x-python",
   "name": "python",
   "nbconvert_exporter": "python",
   "pygments_lexer": "ipython3",
   "version": "3.13.0"
  }
 },
 "nbformat": 4,
 "nbformat_minor": 2
}
