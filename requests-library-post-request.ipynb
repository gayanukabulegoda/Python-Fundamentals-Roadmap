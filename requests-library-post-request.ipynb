{
 "cells": [
  {
   "cell_type": "code",
   "execution_count": 1,
   "metadata": {
    "ExecuteTime": {
     "end_time": "2025-01-09T04:49:16.862436Z",
     "start_time": "2025-01-09T04:49:13.425160Z"
    }
   },
   "outputs": [
    {
     "name": "stdout",
     "output_type": "stream",
     "text": [
      "Login successful\n",
      "{\n",
      "  \"args\": {}, \n",
      "  \"data\": \"\", \n",
      "  \"files\": {}, \n",
      "  \"form\": {\n",
      "    \"password\": \"admin\", \n",
      "    \"username\": \"admin\"\n",
      "  }, \n",
      "  \"headers\": {\n",
      "    \"Accept\": \"*/*\", \n",
      "    \"Accept-Encoding\": \"gzip, deflate\", \n",
      "    \"Content-Length\": \"29\", \n",
      "    \"Content-Type\": \"application/x-www-form-urlencoded\", \n",
      "    \"Host\": \"httpbin.org\", \n",
      "    \"User-Agent\": \"python-requests/2.32.3\", \n",
      "    \"X-Amzn-Trace-Id\": \"Root=1-677f554c-212ec5590b7e05203845c774\"\n",
      "  }, \n",
      "  \"json\": null, \n",
      "  \"origin\": \"45.121.88.199\", \n",
      "  \"url\": \"https://httpbin.org/post\"\n",
      "}\n",
      "\n"
     ]
    }
   ],
   "source": [
    "# post request - use use post request to send data to the server\n",
    "import requests\n",
    "\n",
    "data = {'username': 'admin', 'password': 'admin'}\n",
    "\n",
    "url = 'https://httpbin.org/post'\n",
    "response = requests.post(url, data=data)\n",
    "\n",
    "if response.status_code == 200:\n",
    "    print(\"Login successful\")\n",
    "    print(response.text)\n",
    "else:\n",
    "    print(\"Login failed\", response.status_code)"
   ]
  }
 ],
 "metadata": {
  "kernelspec": {
   "display_name": "Python 3",
   "language": "python",
   "name": "python3"
  },
  "language_info": {
   "codemirror_mode": {
    "name": "ipython",
    "version": 3
   },
   "file_extension": ".py",
   "mimetype": "text/x-python",
   "name": "python",
   "nbconvert_exporter": "python",
   "pygments_lexer": "ipython3",
   "version": "3.12.6"
  }
 },
 "nbformat": 4,
 "nbformat_minor": 2
}
