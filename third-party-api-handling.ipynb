{
 "cells": [
  {
   "cell_type": "code",
   "execution_count": 1,
   "metadata": {},
   "outputs": [
    {
     "name": "stdout",
     "output_type": "stream",
     "text": [
      "Success\n",
      "Current-time: 2025-01-09T08:45\n",
      "Temperrature: 0.7\n",
      "Wind speed: 6.3\n"
     ]
    }
   ],
   "source": [
    "import requests\n",
    "\n",
    "base_url = \"https://api.open-meteo.com/v1/forecast\"\n",
    "params = {\n",
    "    \"latitude\": 51.5074,\n",
    "    \"longitude\": -0.1278,\n",
    "    \"current\": \"temperature_2m,wind_speed_10m\"\n",
    "}\n",
    "\n",
    "response = requests.get(base_url, params=params)\n",
    "\n",
    "if response.status_code == 200:\n",
    "    print(\"Success\")\n",
    "    response = response.json()\n",
    "    print(\"Current-time:\", response[\"current\"][\"time\"])\n",
    "    print(\"Temperrature:\", response[\"current\"][\"temperature_2m\"])\n",
    "    print(\"Wind speed:\", response[\"current\"][\"wind_speed_10m\"])\n",
    "else:\n",
    "    print(\"Error\")\n",
    "    print(response.json())"
   ]
  },
  {
   "cell_type": "code",
   "execution_count": 5,
   "metadata": {},
   "outputs": [
    {
     "name": "stdout",
     "output_type": "stream",
     "text": [
      "Cussrent weather information:\n",
      "Current-time: 2025-01-09T09:15\n",
      "Temperrature: 0.7 °C\n",
      "Wind speed: 6.8 kmh\n"
     ]
    }
   ],
   "source": [
    "import requests\n",
    "\n",
    "def fetch_weather_data(latitude, longitude, current_info):\n",
    "    base_url = \"https://api.open-meteo.com/v1/forecast\"\n",
    "    params = {\n",
    "        \"latitude\": latitude,\n",
    "        \"longitude\": longitude,\n",
    "        \"current\": current_info\n",
    "    }\n",
    "    response = requests.get(base_url, params=params)\n",
    "    if response.status_code == 200:\n",
    "        pass_weather_data(response.json())\n",
    "    else:\n",
    "        return None\n",
    "    \n",
    "def pass_weather_data(response):\n",
    "    if response == None:\n",
    "        print(\"Error\")\n",
    "    elif response:\n",
    "        print(\"Cussrent weather information:\")\n",
    "        print(\"Current-time:\", response[\"current\"][\"time\"])\n",
    "        print(\"Temperrature:\", response[\"current\"][\"temperature_2m\"], \"°C\")\n",
    "        print(\"Wind speed:\", response[\"current\"][\"wind_speed_10m\"], \"kmh\")\n",
    "    else:\n",
    "        print(\"Error\")\n",
    "    \n",
    "response = fetch_weather_data(51.5074, -0.1278, \"temperature_2m,wind_speed_10m\")"
   ]
  }
 ],
 "metadata": {
  "kernelspec": {
   "display_name": "Python 3",
   "language": "python",
   "name": "python3"
  },
  "language_info": {
   "codemirror_mode": {
    "name": "ipython",
    "version": 3
   },
   "file_extension": ".py",
   "mimetype": "text/x-python",
   "name": "python",
   "nbconvert_exporter": "python",
   "pygments_lexer": "ipython3",
   "version": "3.12.6"
  }
 },
 "nbformat": 4,
 "nbformat_minor": 2
}
