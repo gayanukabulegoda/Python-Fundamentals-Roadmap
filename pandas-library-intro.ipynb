{
 "cells": [
  {
   "cell_type": "code",
   "execution_count": 5,
   "metadata": {},
   "outputs": [
    {
     "name": "stdout",
     "output_type": "stream",
     "text": [
      "      Name  Age\n",
      "0    Alice   25\n",
      "1      Bob   30\n",
      "2  Charlie   35\n",
      "3    David   40\n",
      "<class 'pandas.core.frame.DataFrame'>\n"
     ]
    }
   ],
   "source": [
    "# Creating a Dataframe\n",
    "import pandas as pd\n",
    "\n",
    "# Create a DataFrame from a dictionary\n",
    "data = {'Name': ['Alice', 'Bob', 'Charlie', 'David'],\n",
    "        'Age' : [25, 30, 35, 40]}\n",
    "\n",
    "df = pd.DataFrame(data)\n",
    "print(df)\n",
    "print(type(df))"
   ]
  },
  {
   "cell_type": "code",
   "execution_count": 6,
   "metadata": {},
   "outputs": [
    {
     "name": "stdout",
     "output_type": "stream",
     "text": [
      "Bob\n"
     ]
    }
   ],
   "source": [
    "# Accessing the data in a cell (label-based)\n",
    "print(df.loc[1, 'Name'])"
   ]
  },
  {
   "cell_type": "code",
   "execution_count": 7,
   "metadata": {},
   "outputs": [
    {
     "name": "stdout",
     "output_type": "stream",
     "text": [
      "Bob\n"
     ]
    }
   ],
   "source": [
    "# Accessing the data in a cell (index-based)\n",
    "print(df.iloc[1, 0])"
   ]
  },
  {
   "cell_type": "code",
   "execution_count": 9,
   "metadata": {},
   "outputs": [
    {
     "name": "stdout",
     "output_type": "stream",
     "text": [
      "Name    Bob\n",
      "Age      30\n",
      "Name: 1, dtype: object\n"
     ]
    }
   ],
   "source": [
    "# In-order to return only a mentioned row\n",
    "print(df.loc[1])"
   ]
  },
  {
   "cell_type": "code",
   "execution_count": 10,
   "metadata": {},
   "outputs": [
    {
     "name": "stdout",
     "output_type": "stream",
     "text": [
      "0      Alice\n",
      "1        Bob\n",
      "2    Charlie\n",
      "3      David\n",
      "Name: Name, dtype: object\n"
     ]
    }
   ],
   "source": [
    "# In-order to return only a mentioned column\n",
    "print(df['Name'])"
   ]
  },
  {
   "cell_type": "code",
   "execution_count": 15,
   "metadata": {},
   "outputs": [
    {
     "name": "stdout",
     "output_type": "stream",
     "text": [
      "    Name  Age\n",
      "0  Alice   25\n",
      "1    Bob   30\n",
      "\n",
      "      Name  Age\n",
      "0    Alice   25\n",
      "1      Bob   30\n",
      "2  Charlie   35\n"
     ]
    }
   ],
   "source": [
    "# In-order to return multiple rows\n",
    "print(df.loc[[0, 1]])\n",
    "print()\n",
    "print(df.loc[0:2])"
   ]
  },
  {
   "cell_type": "code",
   "execution_count": 16,
   "metadata": {},
   "outputs": [
    {
     "name": "stdout",
     "output_type": "stream",
     "text": [
      "      Name  Age\n",
      "0    Alice   25\n",
      "1      Bob   30\n",
      "2  Charlie   35\n",
      "3    David   40\n",
      "\n",
      "      Name  Age\n",
      "0    Alice   25\n",
      "1      Bob   30\n",
      "2  Charlie   35\n",
      "3    David   40\n"
     ]
    }
   ],
   "source": [
    "# In-order to return multiple columns\n",
    "print(df[['Name', 'Age']])\n",
    "print()\n",
    "print(df.loc[:, ['Name', 'Age']])"
   ]
  },
  {
   "cell_type": "code",
   "execution_count": 31,
   "metadata": {},
   "outputs": [
    {
     "name": "stdout",
     "output_type": "stream",
     "text": [
      "      Name  Age\n",
      "a    Alice   25\n",
      "b      Bob   30\n",
      "c  Charlie   35\n",
      "d    David   40\n",
      "\n",
      "Name    David\n",
      "Age        40\n",
      "Name: d, dtype: object\n",
      "\n",
      "Name    David\n",
      "Age        40\n",
      "Name: d, dtype: object\n",
      "\n",
      "      Name  Age\n",
      "a    Alice   25\n",
      "c  Charlie   35\n",
      "\n",
      "      Name  Age\n",
      "a    Alice   25\n",
      "c  Charlie   35\n",
      "\n",
      "      Name  Age\n",
      "a    Alice   25\n",
      "b      Bob   30\n",
      "c  Charlie   35\n"
     ]
    }
   ],
   "source": [
    "# DataFrame with custom indexes\n",
    "df = pd.DataFrame(data, index=['a', 'b', 'c', 'd'])\n",
    "print(df)\n",
    "\n",
    "# Accessing the data\n",
    "print()\n",
    "print(df.loc['d'])\n",
    "print()\n",
    "print(df.iloc[3])\n",
    "print()\n",
    "print(df.loc[['a', 'c']])\n",
    "print()\n",
    "print(df.iloc[[0, 2]])\n",
    "print()\n",
    "print(df.loc['a':'c'])"
   ]
  }
 ],
 "metadata": {
  "kernelspec": {
   "display_name": "Python 3",
   "language": "python",
   "name": "python3"
  },
  "language_info": {
   "codemirror_mode": {
    "name": "ipython",
    "version": 3
   },
   "file_extension": ".py",
   "mimetype": "text/x-python",
   "name": "python",
   "nbconvert_exporter": "python",
   "pygments_lexer": "ipython3",
   "version": "3.12.6"
  }
 },
 "nbformat": 4,
 "nbformat_minor": 2
}
