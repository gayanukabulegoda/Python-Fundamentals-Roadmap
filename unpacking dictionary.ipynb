{
 "cells": [
  {
   "cell_type": "code",
   "execution_count": 3,
   "metadata": {},
   "outputs": [
    {
     "name": "stdout",
     "output_type": "stream",
     "text": [
      "name John\n",
      "age 36\n",
      "gender male\n",
      "name\n",
      "age\n",
      "gender\n",
      "John\n",
      "36\n",
      "male\n"
     ]
    }
   ],
   "source": [
    "Person = {\n",
    "    \"name\": \"John\",\n",
    "    \"age\": 36,\n",
    "    \"gender\": \"male\",\n",
    "}\n",
    "\n",
    "# to get the value and key\n",
    "for key, value in Person.items():\n",
    "    print(key, value)\n",
    "\n",
    "# to get the key\n",
    "for key in Person.keys():\n",
    "    print(key)\n",
    "\n",
    "# to get the value\n",
    "for value in Person.values():\n",
    "    print(value)    "
   ]
  }
 ],
 "metadata": {
  "kernelspec": {
   "display_name": "Python 3",
   "language": "python",
   "name": "python3"
  },
  "language_info": {
   "codemirror_mode": {
    "name": "ipython",
    "version": 3
   },
   "file_extension": ".py",
   "mimetype": "text/x-python",
   "name": "python",
   "nbconvert_exporter": "python",
   "pygments_lexer": "ipython3",
   "version": "3.13.0"
  }
 },
 "nbformat": 4,
 "nbformat_minor": 2
}
