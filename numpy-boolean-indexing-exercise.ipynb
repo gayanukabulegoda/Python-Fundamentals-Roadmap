{
 "cells": [
  {
   "cell_type": "code",
   "execution_count": 2,
   "metadata": {},
   "outputs": [
    {
     "name": "stdout",
     "output_type": "stream",
     "text": [
      "[ 2  4  6  8 10 12 14 16 18 20]\n",
      "[40 50]\n"
     ]
    }
   ],
   "source": [
    "'''\n",
    "Create a 1D NumPy array with values from 1 to 20.\n",
    "\n",
    "1. Use boolean indexing to extract all even numbers.\n",
    "2. Given the NumPy array with elements 10, 20, 30, 40, 50. \n",
    "   Use boolean indexing to extract all elements that are greater than the mean of the array.\n",
    "'''\n",
    "\n",
    "import numpy as np\n",
    "\n",
    "# 1\n",
    "arr = np.arange(1, 21)\n",
    "even_numbers = arr[arr % 2 == 0]\n",
    "print(even_numbers)\n",
    "\n",
    "# 2\n",
    "arr = np.array([10, 20, 30, 40, 50])\n",
    "mean = np.mean(arr)\n",
    "elements_greater_than_mean = arr[arr > mean]\n",
    "print(elements_greater_than_mean)"
   ]
  }
 ],
 "metadata": {
  "kernelspec": {
   "display_name": "Python 3",
   "language": "python",
   "name": "python3"
  },
  "language_info": {
   "codemirror_mode": {
    "name": "ipython",
    "version": 3
   },
   "file_extension": ".py",
   "mimetype": "text/x-python",
   "name": "python",
   "nbconvert_exporter": "python",
   "pygments_lexer": "ipython3",
   "version": "3.12.6"
  }
 },
 "nbformat": 4,
 "nbformat_minor": 2
}
