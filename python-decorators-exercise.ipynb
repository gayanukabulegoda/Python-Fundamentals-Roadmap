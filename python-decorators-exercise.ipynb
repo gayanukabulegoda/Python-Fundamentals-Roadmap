{
 "cells": [
  {
   "cell_type": "code",
   "execution_count": 13,
   "metadata": {},
   "outputs": [
    {
     "name": "stdout",
     "output_type": "stream",
     "text": [
      "3.0\n",
      "Input must be a positive number\n"
     ]
    }
   ],
   "source": [
    "'''\n",
    "Create a decorator check_positive() that,\n",
    "\n",
    "    1. Check of the input to a function is a positive number\n",
    "        - If the input is not positive, print a message \"Input must be a positive number\"\n",
    "\n",
    "    2. Use this decorator on a function calcualte_square_root() that takes one number as \n",
    "    input and returns the square root of the input number (using math.sqrt() function)\n",
    "'''\n",
    "\n",
    "from math import sqrt\n",
    "\n",
    "def check_positive(func):\n",
    "    def wrapper(num):\n",
    "        if num < 0:\n",
    "            print(\"Input must be a positive number\")\n",
    "        else:\n",
    "            func(num)\n",
    "    return wrapper\n",
    "    \n",
    "@check_positive\n",
    "def calculate_square_root(num):\n",
    "    print(sqrt(num))\n",
    "\n",
    "calculate_square_root(9)\n",
    "calculate_square_root(-9)"
   ]
  }
 ],
 "metadata": {
  "kernelspec": {
   "display_name": "Python 3",
   "language": "python",
   "name": "python3"
  },
  "language_info": {
   "codemirror_mode": {
    "name": "ipython",
    "version": 3
   },
   "file_extension": ".py",
   "mimetype": "text/x-python",
   "name": "python",
   "nbconvert_exporter": "python",
   "pygments_lexer": "ipython3",
   "version": "3.13.0"
  }
 },
 "nbformat": 4,
 "nbformat_minor": 2
}
