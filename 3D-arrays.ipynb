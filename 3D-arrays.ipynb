{
 "cells": [
  {
   "cell_type": "code",
   "execution_count": 5,
   "metadata": {},
   "outputs": [
    {
     "name": "stdout",
     "output_type": "stream",
     "text": [
      "[[[1, 2, 3], [4, 5, 6]], [[7, 8, 9], [10, 11, 12]]]\n",
      "[[1, 2, 3], [4, 5, 6]] : [1, 2, 3]\n",
      "[7, 8, 9] : 7 8 9\n",
      "<class 'list'>\n"
     ]
    }
   ],
   "source": [
    "#3D array\n",
    "array_1 = [[[1, 2, 3], [4, 5, 6]], [[7, 8, 9], [10, 11, 12]]]\n",
    "\n",
    "print(array_1)\n",
    "print(array_1[0], \":\", array_1[0][0])\n",
    "print(array_1[1][0], \":\", array_1[1][0][0], array_1[1][0][1], array_1[1][0][2])\n",
    "print(type(array_1))\n"
   ]
  },
  {
   "cell_type": "code",
   "execution_count": 9,
   "metadata": {},
   "outputs": [
    {
     "name": "stdout",
     "output_type": "stream",
     "text": [
      "[[[ 1  2  3]\n",
      "  [ 4  5  6]]\n",
      "\n",
      " [[ 7  8  9]\n",
      "  [10 11 12]]] \n",
      "\n",
      "(2, 2, 3)\n"
     ]
    }
   ],
   "source": [
    "''' \n",
    ".shape attribute - returns the dimensions of the array \n",
    "in the form of a tuple with the length of the tuple indicating the number of dimensions \n",
    "and the elements indicating the size of the array in each dimension\n",
    "'''\n",
    "import numpy as np\n",
    "\n",
    "array_2 = np.array([[[1, 2, 3], [4, 5, 6]], [[7, 8, 9], [10, 11, 12]]])\n",
    "print(array_2, \"\\n\")\n",
    "print(array_2.shape)"
   ]
  },
  {
   "cell_type": "code",
   "execution_count": 10,
   "metadata": {},
   "outputs": [
    {
     "name": "stdout",
     "output_type": "stream",
     "text": [
      "12\n"
     ]
    }
   ],
   "source": [
    "'''\n",
    ".size attribute - returns the total number of elements in the array\n",
    "'''\n",
    "print(array_2.size)"
   ]
  },
  {
   "cell_type": "code",
   "execution_count": 12,
   "metadata": {},
   "outputs": [
    {
     "name": "stdout",
     "output_type": "stream",
     "text": [
      "3\n"
     ]
    }
   ],
   "source": [
    "'''\n",
    ".ndim attribute - returns the number of dimensions of the array\n",
    "'''\n",
    "print(array_2.ndim)"
   ]
  },
  {
   "cell_type": "code",
   "execution_count": 13,
   "metadata": {},
   "outputs": [
    {
     "name": "stdout",
     "output_type": "stream",
     "text": [
      "int64\n"
     ]
    }
   ],
   "source": [
    "'''\n",
    ".dtype attribute - returns the data type of the elements in the array\n",
    "'''\n",
    "print(array_2.dtype)"
   ]
  }
 ],
 "metadata": {
  "kernelspec": {
   "display_name": "Python 3",
   "language": "python",
   "name": "python3"
  },
  "language_info": {
   "codemirror_mode": {
    "name": "ipython",
    "version": 3
   },
   "file_extension": ".py",
   "mimetype": "text/x-python",
   "name": "python",
   "nbconvert_exporter": "python",
   "pygments_lexer": "ipython3",
   "version": "3.12.6"
  }
 },
 "nbformat": 4,
 "nbformat_minor": 2
}
