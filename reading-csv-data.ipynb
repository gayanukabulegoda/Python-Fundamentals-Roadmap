{
 "cells": [
  {
   "cell_type": "code",
   "execution_count": 1,
   "metadata": {},
   "outputs": [
    {
     "name": "stdout",
     "output_type": "stream",
     "text": [
      "<_csv.reader object at 0x000001B1B805D9C0> \n",
      " <class '_csv.reader'>\n"
     ]
    }
   ],
   "source": [
    "# Reading CSV Data\n",
    "import csv\n",
    "\n",
    "csv_file_path = 'customers-100.csv'\n",
    "\n",
    "with open(csv_file_path, 'r', newline='') as csv_file:\n",
    "    csv_reader = csv.reader(csv_file)\n",
    "\n",
    "print(csv_reader, '\\n', type(csv_reader))"
   ]
  },
  {
   "cell_type": "code",
   "execution_count": null,
   "metadata": {},
   "outputs": [],
   "source": [
    "# Iterate over the csv_reader object\n",
    "import csv\n",
    "\n",
    "csv_file_path = 'customers-100.csv'\n",
    "\n",
    "with open(csv_file_path, 'r', newline='') as csv_file:\n",
    "    csv_reader = csv.reader(csv_file)\n",
    "    for row in csv_reader:\n",
    "        print(row, ' : ', type(row))"
   ]
  },
  {
   "cell_type": "code",
   "execution_count": null,
   "metadata": {},
   "outputs": [],
   "source": [
    "# Using the csv.DictReader class\n",
    "import csv\n",
    "\n",
    "csv_file_path = 'customers-100.csv'\n",
    "\n",
    "with open(csv_file_path, 'r', newline='') as csv_file:\n",
    "    csv_reader = csv.DictReader(csv_file)\n",
    "    for row in csv_reader:\n",
    "        print(row, ' : ', type(row))"
   ]
  }
 ],
 "metadata": {
  "kernelspec": {
   "display_name": "Python 3",
   "language": "python",
   "name": "python3"
  },
  "language_info": {
   "codemirror_mode": {
    "name": "ipython",
    "version": 3
   },
   "file_extension": ".py",
   "mimetype": "text/x-python",
   "name": "python",
   "nbconvert_exporter": "python",
   "pygments_lexer": "ipython3",
   "version": "3.13.0"
  }
 },
 "nbformat": 4,
 "nbformat_minor": 2
}
