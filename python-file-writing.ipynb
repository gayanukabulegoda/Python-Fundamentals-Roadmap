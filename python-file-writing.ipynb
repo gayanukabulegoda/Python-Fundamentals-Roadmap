{
 "cells": [
  {
   "cell_type": "code",
   "execution_count": 1,
   "metadata": {},
   "outputs": [],
   "source": [
    "# Writing a file with the write() method\n",
    "with open('my_file_1.txt', 'w') as file:\n",
    "    file.write('This is my file\\n')\n",
    "    file.write('Programming is fun\\n')\n",
    "    file.write('Python is awesome')"
   ]
  },
  {
   "cell_type": "code",
   "execution_count": 5,
   "metadata": {},
   "outputs": [],
   "source": [
    "# Using writelines() method\n",
    "with open('my_file_2.txt', 'w') as file:\n",
    "    lines = ['This is my file\\n',\n",
    "             'Programming is fun\\n',\n",
    "             'Python is awesome']\n",
    "    file.writelines(lines)"
   ]
  }
 ],
 "metadata": {
  "kernelspec": {
   "display_name": "Python 3",
   "language": "python",
   "name": "python3"
  },
  "language_info": {
   "codemirror_mode": {
    "name": "ipython",
    "version": 3
   },
   "file_extension": ".py",
   "mimetype": "text/x-python",
   "name": "python",
   "nbconvert_exporter": "python",
   "pygments_lexer": "ipython3",
   "version": "3.13.0"
  }
 },
 "nbformat": 4,
 "nbformat_minor": 2
}
