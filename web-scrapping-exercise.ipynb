{
 "cells": [
  {
   "cell_type": "code",
   "execution_count": 3,
   "metadata": {},
   "outputs": [
    {
     "name": "stdout",
     "output_type": "stream",
     "text": [
      "Example Domain\n"
     ]
    }
   ],
   "source": [
    "'''Fetch a webpage, check if the request was successful, and extract the main heading text from the page's content. \n",
    "You can assume that the base url is 'http://example.com'.'''\n",
    "\n",
    "import requests\n",
    "from bs4 import BeautifulSoup\n",
    "\n",
    "def fetch_content(url):\n",
    "    response = requests.get(url)\n",
    "    if response.status_code == 200:\n",
    "        return response.content\n",
    "    return None\n",
    "\n",
    "def extract_heading(content):\n",
    "    soup = BeautifulSoup(content, 'html.parser')\n",
    "    heading = soup.h1.text\n",
    "    return heading\n",
    "\n",
    "def main():\n",
    "    url = 'http://example.com'\n",
    "    content = fetch_content(url)\n",
    "    if content:\n",
    "        heading = extract_heading(content)\n",
    "        print(heading)\n",
    "    else:\n",
    "        print('Failed to fetch the page content')\n",
    "\n",
    "if __name__ == '__main__':\n",
    "    main()"
   ]
  }
 ],
 "metadata": {
  "kernelspec": {
   "display_name": "Python 3",
   "language": "python",
   "name": "python3"
  },
  "language_info": {
   "codemirror_mode": {
    "name": "ipython",
    "version": 3
   },
   "file_extension": ".py",
   "mimetype": "text/x-python",
   "name": "python",
   "nbconvert_exporter": "python",
   "pygments_lexer": "ipython3",
   "version": "3.12.6"
  }
 },
 "nbformat": 4,
 "nbformat_minor": 2
}
