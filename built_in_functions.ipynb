{
 "cells": [
  {
   "cell_type": "code",
   "execution_count": 1,
   "metadata": {},
   "outputs": [
    {
     "name": "stdout",
     "output_type": "stream",
     "text": [
      "45\n",
      "54\n"
     ]
    }
   ],
   "source": [
    "# abs():\n",
    "\n",
    "print(abs(-45)) # 45\n",
    "print(abs(54))"
   ]
  },
  {
   "cell_type": "code",
   "execution_count": 4,
   "metadata": {},
   "outputs": [
    {
     "name": "stdout",
     "output_type": "stream",
     "text": [
      "<map object at 0x000002672F917880>\n",
      "[1, 4, 9, 16, 25] <class 'map'>\n"
     ]
    }
   ],
   "source": [
    "# map():\n",
    "\n",
    "def cal_saqure_root(num):\n",
    "    return num * num\n",
    "\n",
    "numbers = [1, 2, 3, 4, 5]\n",
    "\n",
    "result = map(cal_saqure_root, numbers)\n",
    "print(result)\n",
    "print(list(result), type(result))"
   ]
  },
  {
   "cell_type": "code",
   "execution_count": 7,
   "metadata": {},
   "outputs": [
    {
     "name": "stdout",
     "output_type": "stream",
     "text": [
      "[14, 11, 11, 7]\n",
      "[14, 11, 11, 7]\n"
     ]
    }
   ],
   "source": [
    "# use the map function to add coreesponding elements of two lists\n",
    "\n",
    "my_list_1 = [10, 8, 5, 6]\n",
    "my_list_2 = [4, 3, 6, 1]\n",
    "\n",
    "def add(x, y):\n",
    "    return x + y\n",
    "\n",
    "result = map(add, my_list_1, my_list_2)\n",
    "print(list(result))\n",
    "\n",
    "# using lambda function\n",
    "\n",
    "result = map(lambda x, y: x + y, my_list_1, my_list_2)\n",
    "print(list(result))"
   ]
  },
  {
   "cell_type": "code",
   "execution_count": 1,
   "metadata": {},
   "outputs": [
    {
     "name": "stdout",
     "output_type": "stream",
     "text": [
      "[68.0, 86.0, 77.0, 104.0, 59.0]\n"
     ]
    }
   ],
   "source": [
    "'''You have a list of integers representing temperratures in Celcius\n",
    "\n",
    "temperatures = [20, 30, 25, 40, 15]\n",
    "\n",
    "write a python program using map function to convert thses temperatures into Fahrenheit.\n",
    "\n",
    "use the formula\n",
    "\n",
    "Farhenheit = (9/5) * Celcius + 32'''\n",
    "\n",
    "temperatures = [20, 30, 25, 40, 15]\n",
    "\n",
    "def celcius_to_fahrenheit(celcius):\n",
    "    return (9/5) * celcius + 32\n",
    "\n",
    "result = map(celcius_to_fahrenheit, temperatures)\n",
    "print(list(result))"
   ]
  },
  {
   "cell_type": "code",
   "execution_count": 3,
   "metadata": {},
   "outputs": [
    {
     "name": "stdout",
     "output_type": "stream",
     "text": [
      "<filter object at 0x000001D7650B4A60> <class 'filter'>\n",
      "[2, 4, 6, 8]\n"
     ]
    }
   ],
   "source": [
    "# filter():\n",
    "\n",
    "def is_even(num):\n",
    "    return num % 2 == 0\n",
    "\n",
    "numbers = [1, 2, 3, 4, 5, 6, 7, 8, 9]\n",
    "\n",
    "result = filter(is_even, numbers)\n",
    "print(result, type(result))\n",
    "print(list(result))"
   ]
  }
 ],
 "metadata": {
  "kernelspec": {
   "display_name": "Python 3",
   "language": "python",
   "name": "python3"
  },
  "language_info": {
   "codemirror_mode": {
    "name": "ipython",
    "version": 3
   },
   "file_extension": ".py",
   "mimetype": "text/x-python",
   "name": "python",
   "nbconvert_exporter": "python",
   "pygments_lexer": "ipython3",
   "version": "3.13.0"
  }
 },
 "nbformat": 4,
 "nbformat_minor": 2
}
