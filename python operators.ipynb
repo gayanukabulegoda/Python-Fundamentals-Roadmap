{
 "cells": [
  {
   "cell_type": "code",
   "execution_count": null,
   "metadata": {},
   "outputs": [
    {
     "name": "stdout",
     "output_type": "stream",
     "text": [
      "5\n",
      "-1\n",
      "6\n",
      "0.6666666666666666\n",
      "0\n",
      "2\n",
      "8\n"
     ]
    }
   ],
   "source": [
    "# (01) Arithmetic operators\n",
    "\n",
    "# Addition\n",
    "print(2 + 3)\n",
    "\n",
    "# Subtraction\n",
    "print(2 - 3)\n",
    "\n",
    "# Multiplication\n",
    "print(2 * 3)\n",
    "\n",
    "# Division\n",
    "print(2 / 3)\n",
    "\n",
    "# Floor division\n",
    "print(2 // 3)\n",
    "\n",
    "# Modulus\n",
    "print(2 % 3)\n",
    "\n",
    "# Exponentiation\n",
    "print(2 ** 3)"
   ]
  },
  {
   "cell_type": "code",
   "execution_count": 2,
   "metadata": {},
   "outputs": [
    {
     "name": "stdout",
     "output_type": "stream",
     "text": [
      "2\n",
      "5\n",
      "2\n",
      "6\n",
      "2.0\n",
      "2.0\n",
      "8.0\n",
      "2.0\n"
     ]
    }
   ],
   "source": [
    "# (02) Assignment operators\n",
    "\n",
    "# Assignment\n",
    "a = 2\n",
    "print(a)\n",
    "\n",
    "# Add and assign\n",
    "a += 3\n",
    "print(a)\n",
    "\n",
    "# Subtract and assign\n",
    "a -= 3\n",
    "print(a)\n",
    "\n",
    "# Multiply and assign\n",
    "a *= 3\n",
    "print(a)\n",
    "\n",
    "# Divide and assign\n",
    "a /= 3\n",
    "print(a)\n",
    "\n",
    "# Modulus and assign\n",
    "a %= 3\n",
    "print(a)\n",
    "\n",
    "# Explonential and assign\n",
    "a **= 3\n",
    "print(a)\n",
    "\n",
    "# Floor divide and assign\n",
    "a //= 3\n",
    "print(a)\n"
   ]
  },
  {
   "cell_type": "code",
   "execution_count": 3,
   "metadata": {},
   "outputs": [
    {
     "name": "stdout",
     "output_type": "stream",
     "text": [
      "False\n",
      "True\n",
      "False\n",
      "True\n",
      "False\n",
      "True\n"
     ]
    }
   ],
   "source": [
    "# (03) Comparison operators\n",
    "\n",
    "# Equal\n",
    "print(2 == 3)\n",
    "\n",
    "# Not equal\n",
    "print(2 != 3)\n",
    "\n",
    "# Greater than\n",
    "print(2 > 3)\n",
    "\n",
    "# Less than\n",
    "print(2 < 3)\n",
    "\n",
    "# Greater than or equal to\n",
    "print(2 >= 3)\n",
    "\n",
    "# Less than or equal to\n",
    "print(2 <= 3)"
   ]
  },
  {
   "cell_type": "code",
   "execution_count": 4,
   "metadata": {},
   "outputs": [
    {
     "name": "stdout",
     "output_type": "stream",
     "text": [
      "True\n",
      "True\n",
      "False\n"
     ]
    }
   ],
   "source": [
    "# (04) Logical operators\n",
    "\n",
    "# And\n",
    "print(2 < 3 and 3 < 4)\n",
    "\n",
    "# Or\n",
    "print(2 < 3 or 3 < 4)\n",
    "\n",
    "# Not\n",
    "print(not 2 < 3)"
   ]
  },
  {
   "cell_type": "code",
   "execution_count": 9,
   "metadata": {},
   "outputs": [
    {
     "name": "stdout",
     "output_type": "stream",
     "text": [
      "False\n",
      "True\n",
      "True\n"
     ]
    }
   ],
   "source": [
    "# (05) Identity operators\n",
    "\n",
    "# Is\n",
    "a = 2\n",
    "b = 6\n",
    "print(a is b)\n",
    "b = 2\n",
    "print(a is b)\n",
    "\n",
    "# Is not\n",
    "x = 4\n",
    "y = 8\n",
    "print(x is not y)"
   ]
  },
  {
   "cell_type": "code",
   "execution_count": 10,
   "metadata": {},
   "outputs": [
    {
     "name": "stdout",
     "output_type": "stream",
     "text": [
      "True\n",
      "True\n"
     ]
    }
   ],
   "source": [
    "# (06) Membership operators\n",
    "\n",
    "# In\n",
    "a = [1, 2, 3]\n",
    "print(2 in a)\n",
    "\n",
    "# Not in\n",
    "print(4 not in a)"
   ]
  },
  {
   "cell_type": "code",
   "execution_count": 13,
   "metadata": {},
   "outputs": [
    {
     "name": "stdout",
     "output_type": "stream",
     "text": [
      "0\n",
      "15\n",
      "15\n",
      "-6\n",
      "10\n",
      "2\n"
     ]
    }
   ],
   "source": [
    "# (07) Bitwise operators\n",
    "\n",
    "# Bitwise AND\n",
    "a = 5\n",
    "b = 10\n",
    "print(a & b)\n",
    "\n",
    "# Bitwise OR\n",
    "print(a | b)\n",
    "\n",
    "# Bitwise XOR\n",
    "print(a ^ b)\n",
    "\n",
    "# Bitwise NOT\n",
    "print(~a)\n",
    "\n",
    "# Bitwise left shift\n",
    "print(a << 1)\n",
    "\n",
    "# Bitwise right shift\n",
    "print(a >> 1)"
   ]
  }
 ],
 "metadata": {
  "kernelspec": {
   "display_name": "Python 3",
   "language": "python",
   "name": "python3"
  },
  "language_info": {
   "codemirror_mode": {
    "name": "ipython",
    "version": 3
   },
   "file_extension": ".py",
   "mimetype": "text/x-python",
   "name": "python",
   "nbconvert_exporter": "python",
   "pygments_lexer": "ipython3",
   "version": "3.13.0"
  }
 },
 "nbformat": 4,
 "nbformat_minor": 2
}
