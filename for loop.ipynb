{
 "cells": [
  {
   "cell_type": "code",
   "execution_count": 1,
   "metadata": {},
   "outputs": [
    {
     "name": "stdout",
     "output_type": "stream",
     "text": [
      "fruit:  apple\n",
      "fruit:  banana\n",
      "fruit:  orange\n"
     ]
    }
   ],
   "source": [
    "fruits = ['apple', 'banana', 'orange']\n",
    "\n",
    "for fruit in fruits:\n",
    "    print (\"fruit: \", fruit)"
   ]
  },
  {
   "cell_type": "code",
   "execution_count": null,
   "metadata": {},
   "outputs": [
    {
     "name": "stdout",
     "output_type": "stream",
     "text": [
      "square root values:  [49, 25, 64, 16, 81, 144]\n"
     ]
    }
   ],
   "source": [
    "# get square root of each number\n",
    "\n",
    "numbers = [7, 5, 8, 4, 9, 12]\n",
    "square_root_values = []\n",
    "\n",
    "for number in numbers:\n",
    "    square_root_values.append (number * number)\n",
    "\n",
    "print (\"square root values: \", square_root_values)"
   ]
  },
  {
   "cell_type": "code",
   "execution_count": null,
   "metadata": {},
   "outputs": [
    {
     "name": "stdout",
     "output_type": "stream",
     "text": [
      "square root list:  [1, 4, 9, 16, 25, 36, 49, 64, 81, 100]\n"
     ]
    }
   ],
   "source": [
    "# get square root of each number from 1 to input number\n",
    "\n",
    "num = int(input (\"Enter a number: \"))\n",
    "squre_root_list = []\n",
    "\n",
    "for n in range (1, num + 1):\n",
    "    squre_root_list.append (n * n)\n",
    "\n",
    "print (\"square root list: \", squre_root_list)        "
   ]
  }
 ],
 "metadata": {
  "kernelspec": {
   "display_name": "Python 3",
   "language": "python",
   "name": "python3"
  },
  "language_info": {
   "codemirror_mode": {
    "name": "ipython",
    "version": 3
   },
   "file_extension": ".py",
   "mimetype": "text/x-python",
   "name": "python",
   "nbconvert_exporter": "python",
   "pygments_lexer": "ipython3",
   "version": "3.13.0"
  }
 },
 "nbformat": 4,
 "nbformat_minor": 2
}
