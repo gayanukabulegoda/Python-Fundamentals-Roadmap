{
 "cells": [
  {
   "cell_type": "code",
   "execution_count": null,
   "metadata": {},
   "outputs": [
    {
     "name": "stdout",
     "output_type": "stream",
     "text": [
      "4\n"
     ]
    }
   ],
   "source": [
    "# length of a tuple\n",
    "\n",
    "my_tuple = (2, 123.4567, 10000, 12345.67)\n",
    "print(len(my_tuple))"
   ]
  },
  {
   "cell_type": "code",
   "execution_count": null,
   "metadata": {},
   "outputs": [
    {
     "name": "stdout",
     "output_type": "stream",
     "text": [
      "<class 'tuple'>\n"
     ]
    }
   ],
   "source": [
    "# check the type of a tuple\n",
    "\n",
    "my_tuple = ('a', 'b', 'c', 'd')\n",
    "print(type(my_tuple))"
   ]
  },
  {
   "cell_type": "code",
   "execution_count": null,
   "metadata": {},
   "outputs": [
    {
     "name": "stdout",
     "output_type": "stream",
     "text": [
      "<class 'int'>\n"
     ]
    }
   ],
   "source": [
    "# create a tuple with one element\n",
    "\n",
    "my_tuple = (8)\n",
    "print(type(my_tuple))"
   ]
  },
  {
   "cell_type": "code",
   "execution_count": null,
   "metadata": {},
   "outputs": [
    {
     "name": "stdout",
     "output_type": "stream",
     "text": [
      "<class 'tuple'>\n"
     ]
    }
   ],
   "source": [
    "# create a tuple with one element (correct way, with trailing comma)\n",
    "\n",
    "my_tuple = (8,)\n",
    "print(type(my_tuple))"
   ]
  },
  {
   "cell_type": "code",
   "execution_count": null,
   "metadata": {},
   "outputs": [
    {
     "name": "stdout",
     "output_type": "stream",
     "text": [
      "5\n"
     ]
    }
   ],
   "source": [
    "# negative indexing\n",
    "\n",
    "my_tuple = (2, 3, 5, 7)\n",
    "print(my_tuple[-2])"
   ]
  },
  {
   "cell_type": "code",
   "execution_count": null,
   "metadata": {},
   "outputs": [
    {
     "name": "stdout",
     "output_type": "stream",
     "text": [
      "(5, 7, 11)\n"
     ]
    }
   ],
   "source": [
    "# subsetting tuples\n",
    "\n",
    "my_tuple = (2, 3, 5, 7, 11, 13, 17)\n",
    "print(my_tuple[2:5])"
   ]
  },
  {
   "cell_type": "code",
   "execution_count": null,
   "metadata": {},
   "outputs": [
    {
     "name": "stdout",
     "output_type": "stream",
     "text": [
      "(2, 4, 5, 7, 11, 13, 17)\n"
     ]
    }
   ],
   "source": [
    "# concatenating tuples\n",
    "\n",
    "my_tuple = (2, 3, 5, 7, 11, 13, 17)\n",
    "my_list = list(my_tuple)\n",
    "my_list[1] = 4\n",
    "my_tuple = tuple(my_list)\n",
    "print(my_tuple)"
   ]
  },
  {
   "cell_type": "code",
   "execution_count": null,
   "metadata": {},
   "outputs": [
    {
     "name": "stdout",
     "output_type": "stream",
     "text": [
      "banana\n",
      "False\n"
     ]
    }
   ],
   "source": [
    "# nested tuples\n",
    "\n",
    "my_tuple = ((1, 3, 2), ('apple', 'banana', 'cherry'), (True, False))\n",
    "print(my_tuple[1][1])\n",
    "print(my_tuple[2][1])"
   ]
  }
 ],
 "metadata": {
  "kernelspec": {
   "display_name": "Python 3",
   "language": "python",
   "name": "python3"
  },
  "language_info": {
   "codemirror_mode": {
    "name": "ipython",
    "version": 3
   },
   "file_extension": ".py",
   "mimetype": "text/x-python",
   "name": "python",
   "nbconvert_exporter": "python",
   "pygments_lexer": "ipython3",
   "version": "3.13.0"
  }
 },
 "nbformat": 4,
 "nbformat_minor": 2
}
