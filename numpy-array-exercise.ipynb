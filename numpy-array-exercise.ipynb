{
 "cells": [
  {
   "cell_type": "code",
   "execution_count": 2,
   "metadata": {},
   "outputs": [
    {
     "name": "stdout",
     "output_type": "stream",
     "text": [
      "Original Array:\n",
      "[[ 1  2  3  4  5]\n",
      " [ 6  7  8  9 10]\n",
      " [11 12 13 14 15]\n",
      " [16 17 18 19 20]]\n",
      "\n",
      "Adding 10 to every element:\n",
      "[[11 12 13 14 15]\n",
      " [16 17 18 19 20]\n",
      " [21 22 23 24 25]\n",
      " [26 27 28 29 30]]\n",
      "\n",
      "Multiplying every element by 2:\n",
      "[[ 2  4  6  8 10]\n",
      " [12 14 16 18 20]\n",
      " [22 24 26 28 30]\n",
      " [32 34 36 38 40]]\n",
      "\n",
      "Calculating the square of each element:\n",
      "[[  1   4   9  16  25]\n",
      " [ 36  49  64  81 100]\n",
      " [121 144 169 196 225]\n",
      " [256 289 324 361 400]]\n"
     ]
    }
   ],
   "source": [
    "'''\n",
    "Create a 2D NumPy array with the shape 4 by 5 conatining the numbers from 1 to 20\n",
    "\n",
    "1. Perform the following operations on the above matrix:\n",
    "    - Add 10 to every elemt\n",
    "    - Multiply every element by 2\n",
    "    - Calculate the square of each element\n",
    "'''\n",
    "\n",
    "import numpy as np\n",
    "\n",
    "num_array = np.array([[1, 2, 3, 4, 5], [6, 7, 8, 9, 10], [11, 12, 13, 14, 15], [16, 17, 18, 19, 20]])\n",
    "# ----- Or ----- #\n",
    "num_array = np.array(range(1, 21)).reshape(4, 5)\n",
    "\n",
    "print(\"Original Array:\")\n",
    "print(num_array)\n",
    "\n",
    "print(\"\\nAdding 10 to every element:\")\n",
    "print(num_array + 10)\n",
    "\n",
    "print(\"\\nMultiplying every element by 2:\")\n",
    "print(num_array * 2)\n",
    "\n",
    "print(\"\\nCalculating the square of each element:\")\n",
    "print(num_array ** 2)"
   ]
  }
 ],
 "metadata": {
  "kernelspec": {
   "display_name": "Python 3",
   "language": "python",
   "name": "python3"
  },
  "language_info": {
   "codemirror_mode": {
    "name": "ipython",
    "version": 3
   },
   "file_extension": ".py",
   "mimetype": "text/x-python",
   "name": "python",
   "nbconvert_exporter": "python",
   "pygments_lexer": "ipython3",
   "version": "3.12.6"
  }
 },
 "nbformat": 4,
 "nbformat_minor": 2
}
