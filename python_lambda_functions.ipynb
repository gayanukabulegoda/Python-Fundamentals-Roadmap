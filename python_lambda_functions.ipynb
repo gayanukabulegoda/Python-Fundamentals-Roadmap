{
 "cells": [
  {
   "cell_type": "code",
   "execution_count": 1,
   "metadata": {},
   "outputs": [
    {
     "name": "stdout",
     "output_type": "stream",
     "text": [
      "5\n"
     ]
    }
   ],
   "source": [
    "add = lambda x, y: x + y\n",
    "print(add(2, 3))"
   ]
  },
  {
   "cell_type": "code",
   "execution_count": 2,
   "metadata": {},
   "outputs": [
    {
     "name": "stdout",
     "output_type": "stream",
     "text": [
      "5\n"
     ]
    }
   ],
   "source": [
    "result = (lambda x, y: x + y)(2, 3)\n",
    "print(result)"
   ]
  },
  {
   "cell_type": "code",
   "execution_count": 1,
   "metadata": {},
   "outputs": [
    {
     "name": "stdout",
     "output_type": "stream",
     "text": [
      "4\n"
     ]
    }
   ],
   "source": [
    "# write a lambda function to return the power of 2 of a given number\n",
    "\n",
    "power = lambda x: x ** 2\n",
    "print(power(2))"
   ]
  },
  {
   "cell_type": "code",
   "execution_count": null,
   "metadata": {},
   "outputs": [
    {
     "name": "stdout",
     "output_type": "stream",
     "text": [
      "[('alice', 23), ('andrew', 25)]\n"
     ]
    }
   ],
   "source": [
    "'''Write a pyhton program that:\n",
    "\n",
    "1. Takes a list of tuples where each tupule contains a name (String) and age (Integer).\n",
    "2. Use a lambda function to filter out the tuples where the age is less than 18.'''\n",
    "\n",
    "people = [(\"alice\", 23), (\"john\", 17), (\"andrew\", 25), (\"kate\", 15)]\n",
    "\n",
    "print(list(filter(lambda person: person[1] >= 18, people)))\n"
   ]
  },
  {
   "cell_type": "code",
   "execution_count": 5,
   "metadata": {},
   "outputs": [
    {
     "name": "stdout",
     "output_type": "stream",
     "text": [
      "22\n"
     ]
    }
   ],
   "source": [
    "def my_func(n):\n",
    "    return lambda a: a * n\n",
    "\n",
    "my_doubler = my_func(2)\n",
    "\n",
    "print(my_doubler(11))"
   ]
  },
  {
   "cell_type": "code",
   "execution_count": 7,
   "metadata": {},
   "outputs": [
    {
     "name": "stdout",
     "output_type": "stream",
     "text": [
      "20\n"
     ]
    }
   ],
   "source": [
    "# write lamdba function to return the largest number\n",
    "\n",
    "\n",
    "largest_value = lambda x, y : x if x > y else y\n",
    "print(largest_value(10, 20))\n"
   ]
  }
 ],
 "metadata": {
  "kernelspec": {
   "display_name": "Python 3",
   "language": "python",
   "name": "python3"
  },
  "language_info": {
   "codemirror_mode": {
    "name": "ipython",
    "version": 3
   },
   "file_extension": ".py",
   "mimetype": "text/x-python",
   "name": "python",
   "nbconvert_exporter": "python",
   "pygments_lexer": "ipython3",
   "version": "3.13.0"
  }
 },
 "nbformat": 4,
 "nbformat_minor": 2
}
