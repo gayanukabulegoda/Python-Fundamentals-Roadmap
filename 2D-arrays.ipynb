{
 "cells": [
  {
   "cell_type": "code",
   "execution_count": 3,
   "metadata": {},
   "outputs": [
    {
     "name": "stdout",
     "output_type": "stream",
     "text": [
      "[[1, 2, 3], [4, 5, 6], [7, 8, 9]]\n",
      "[1, 2, 3] : 1 2 3\n",
      "<class 'list'>\n"
     ]
    }
   ],
   "source": [
    "# 2D array\n",
    "array_1 = [[1, 2, 3], [4, 5, 6], [7, 8, 9]]\n",
    "print(array_1)\n",
    "print(array_1[0], \":\", array_1[0][0], array_1[0][1], array_1[0][2])\n",
    "print(type(array_1))\n"
   ]
  },
  {
   "cell_type": "code",
   "execution_count": 7,
   "metadata": {},
   "outputs": [
    {
     "name": "stdout",
     "output_type": "stream",
     "text": [
      "[[1 2 3]\n",
      " [4 5 6]\n",
      " [7 8 9]] \n",
      "\n",
      "(3, 3)\n"
     ]
    }
   ],
   "source": [
    "'''\n",
    ".shape attribute - returns the dimensions of the array \n",
    "in the form of a tuple with the length of the tuple indicating the number of dimensions \n",
    "and the elements indicating the size of the array in each dimensionimport numpy as np\n",
    "'''\n",
    "import numpy as np\n",
    "\n",
    "array_2 = np.array([[1, 2, 3], [4, 5, 6], [7, 8, 9]])\n",
    "print(array_2, \"\\n\")\n",
    "print(array_2.shape)"
   ]
  },
  {
   "cell_type": "code",
   "execution_count": 8,
   "metadata": {},
   "outputs": [
    {
     "name": "stdout",
     "output_type": "stream",
     "text": [
      "9\n"
     ]
    }
   ],
   "source": [
    "'''\n",
    ".size attribute - returns the total number of elements in the array\n",
    "'''\n",
    "print(array_2.size)"
   ]
  },
  {
   "cell_type": "code",
   "execution_count": 13,
   "metadata": {},
   "outputs": [
    {
     "name": "stdout",
     "output_type": "stream",
     "text": [
      "1\n"
     ]
    }
   ],
   "source": [
    "'''\n",
    ".ndim attribute - returns the number of dimensions of the array\n",
    "'''\n",
    "array_3 = np.array([1, 2, 3])\n",
    "print(array_3.ndim)"
   ]
  },
  {
   "cell_type": "code",
   "execution_count": 14,
   "metadata": {},
   "outputs": [
    {
     "name": "stdout",
     "output_type": "stream",
     "text": [
      "int64\n"
     ]
    }
   ],
   "source": [
    "'''\n",
    ".dtype attribute - returns the data type of the elements in the array\n",
    "'''\n",
    "print(array_3.dtype)"
   ]
  },
  {
   "cell_type": "code",
   "execution_count": 15,
   "metadata": {},
   "outputs": [
    {
     "name": "stdout",
     "output_type": "stream",
     "text": [
      "[1 2 3 4 5 6] \n",
      "\n",
      "[[1 2 3]\n",
      " [4 5 6]]\n"
     ]
    }
   ],
   "source": [
    "'''\n",
    ".reshape method - returns a new array with the specified shape\n",
    "'''\n",
    "array_4 = np.array([1, 2, 3, 4, 5, 6])\n",
    "print(array_4, \"\\n\")\n",
    "print(array_4.reshape(2, 3))"
   ]
  }
 ],
 "metadata": {
  "kernelspec": {
   "display_name": "Python 3",
   "language": "python",
   "name": "python3"
  },
  "language_info": {
   "codemirror_mode": {
    "name": "ipython",
    "version": 3
   },
   "file_extension": ".py",
   "mimetype": "text/x-python",
   "name": "python",
   "nbconvert_exporter": "python",
   "pygments_lexer": "ipython3",
   "version": "3.12.6"
  }
 },
 "nbformat": 4,
 "nbformat_minor": 2
}
