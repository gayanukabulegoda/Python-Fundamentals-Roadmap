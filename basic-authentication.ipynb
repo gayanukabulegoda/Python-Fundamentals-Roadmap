{
 "cells": [
  {
   "cell_type": "code",
   "execution_count": 3,
   "metadata": {},
   "outputs": [
    {
     "name": "stdout",
     "output_type": "stream",
     "text": [
      "Success!\n",
      "{\n",
      "  \"args\": {}, \n",
      "  \"headers\": {\n",
      "    \"Accept\": \"*/*\", \n",
      "    \"Accept-Encoding\": \"gzip, deflate\", \n",
      "    \"Authorization\": \"Basic dXNlcjoxMjM0\", \n",
      "    \"Host\": \"httpbin.org\", \n",
      "    \"User-Agent\": \"python-requests/2.32.3\", \n",
      "    \"X-Amzn-Trace-Id\": \"Root=1-677f5ba4-03b7d1341a629cfd37facf6a\"\n",
      "  }, \n",
      "  \"origin\": \"45.121.88.199\", \n",
      "  \"url\": \"http://httpbin.org/get\"\n",
      "}\n",
      "\n"
     ]
    }
   ],
   "source": [
    "# Basic authentication\n",
    "import requests\n",
    "\n",
    "url = 'http://httpbin.org/get'\n",
    "\n",
    "user_name = 'user'\n",
    "password = '1234'\n",
    "\n",
    "response = requests.get(url, auth=(user_name, password))\n",
    "\n",
    "if response.status_code == 200:\n",
    "    print('Success!')\n",
    "    print(response.text)\n",
    "else:\n",
    "    print('Failed!')\n",
    "    print(response.status_code)    "
   ]
  }
 ],
 "metadata": {
  "kernelspec": {
   "display_name": "Python 3",
   "language": "python",
   "name": "python3"
  },
  "language_info": {
   "codemirror_mode": {
    "name": "ipython",
    "version": 3
   },
   "file_extension": ".py",
   "mimetype": "text/x-python",
   "name": "python",
   "nbconvert_exporter": "python",
   "pygments_lexer": "ipython3",
   "version": "3.12.6"
  }
 },
 "nbformat": 4,
 "nbformat_minor": 2
}
