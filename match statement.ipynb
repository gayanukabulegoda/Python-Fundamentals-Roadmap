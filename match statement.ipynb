{
 "cells": [
  {
   "cell_type": "code",
   "execution_count": 2,
   "metadata": {},
   "outputs": [
    {
     "name": "stdout",
     "output_type": "stream",
     "text": [
      "Non-Authoritative Information\n"
     ]
    }
   ],
   "source": [
    "# match statement (switch case)\n",
    "\n",
    "response_code = 203\n",
    "\n",
    "match response_code:\n",
    "    case 200:\n",
    "        print(\"OK\")\n",
    "    case 203:\n",
    "        print(\"Non-Authoritative Information\")\n",
    "    case 404:\n",
    "        print(\"Not Found\")\n",
    "    case 500:\n",
    "        print(\"Internal Server Error\")   \n",
    "    case _:\n",
    "        print(\"Something else\")\n",
    " \n",
    " # The  case _  is a catch-all case that matches any value that has not been matched by the previous cases. \n",
    " # The  match statement can also be used to match multiple values at once."
   ]
  },
  {
   "cell_type": "code",
   "execution_count": 3,
   "metadata": {},
   "outputs": [
    {
     "name": "stdout",
     "output_type": "stream",
     "text": [
      "14\n"
     ]
    }
   ],
   "source": [
    "# match statement actually matches a value to a pattern.\n",
    "\n",
    "numbers = [4, 3, 7]\n",
    "\n",
    "match numbers:\n",
    "    case [x, y]:\n",
    "        print(x * y)\n",
    "    case [x, y, z]:\n",
    "        print(x + y + z)\n",
    "    case _:\n",
    "        print(\"The list does not have 2 or 3 numbers!\")    \n"
   ]
  },
  {
   "cell_type": "code",
   "execution_count": 8,
   "metadata": {},
   "outputs": [
    {
     "name": "stdout",
     "output_type": "stream",
     "text": [
      "The list has two elements\n"
     ]
    }
   ],
   "source": [
    "my_list = [1, 2]\n",
    "\n",
    "match my_list:\n",
    "    case []:\n",
    "        print(\"The list is empty\")\n",
    "    case [x]:\n",
    "        print(\"The list has only one element\")    \n",
    "    case [x, y]:\n",
    "        print(\"The list has two elements\")\n",
    "    case _:\n",
    "        print(\"Someting else\")    "
   ]
  }
 ],
 "metadata": {
  "kernelspec": {
   "display_name": "Python 3",
   "language": "python",
   "name": "python3"
  },
  "language_info": {
   "codemirror_mode": {
    "name": "ipython",
    "version": 3
   },
   "file_extension": ".py",
   "mimetype": "text/x-python",
   "name": "python",
   "nbconvert_exporter": "python",
   "pygments_lexer": "ipython3",
   "version": "3.13.0"
  }
 },
 "nbformat": 4,
 "nbformat_minor": 2
}
