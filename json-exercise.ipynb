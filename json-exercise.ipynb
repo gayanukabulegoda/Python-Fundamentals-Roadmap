{
 "cells": [
  {
   "cell_type": "code",
   "execution_count": 8,
   "metadata": {},
   "outputs": [
    {
     "name": "stdout",
     "output_type": "stream",
     "text": [
      "Allice\n",
      "Charlie\n"
     ]
    }
   ],
   "source": [
    "'''\n",
    "You are given a JSON file named students.json which conatins information about students and their grades. \n",
    "Your task is to\n",
    "\n",
    "1. Read the JSON file\n",
    "2. Display the name of all students who scored above 75\n",
    "3. Add a new student record to the file\n",
    "4. Save the updated data back to the JSON file\n",
    "'''\n",
    "import json\n",
    "\n",
    "def read_json_file(file_name):\n",
    "    with open(file_name, 'r') as file:\n",
    "        data = json.load(file)\n",
    "    return data\n",
    "\n",
    "def display_students_above_75(data):\n",
    "    for student in data:\n",
    "        if student['grade'] > 75:\n",
    "            print(student['name'])\n",
    "        \n",
    "def add_student(data, name, grade):\n",
    "    new_student = {'name': name, 'grade': grade}\n",
    "    data.append(new_student)\n",
    "    return data\n",
    "\n",
    "def save_to_json_file(file_name, data):\n",
    "    with open(file_name, 'w') as file:\n",
    "        json.dump(data, file, indent=4)\n",
    "\n",
    "def main():\n",
    "    file_name = 'students.json'\n",
    "    data = read_json_file(file_name)\n",
    "    display_students_above_75(data)\n",
    "    data = add_student(data, 'John', 85)\n",
    "    save_to_json_file(file_name, data)\n",
    "\n",
    "if __name__ == '__main__':\n",
    "    main()"
   ]
  }
 ],
 "metadata": {
  "kernelspec": {
   "display_name": "Python 3",
   "language": "python",
   "name": "python3"
  },
  "language_info": {
   "codemirror_mode": {
    "name": "ipython",
    "version": 3
   },
   "file_extension": ".py",
   "mimetype": "text/x-python",
   "name": "python",
   "nbconvert_exporter": "python",
   "pygments_lexer": "ipython3",
   "version": "3.13.0"
  }
 },
 "nbformat": 4,
 "nbformat_minor": 2
}
