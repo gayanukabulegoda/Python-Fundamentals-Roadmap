{
 "cells": [
  {
   "cell_type": "code",
   "execution_count": 2,
   "metadata": {},
   "outputs": [
    {
     "name": "stdout",
     "output_type": "stream",
     "text": [
      "Dog is barking\n",
      "Cat is meowing\n"
     ]
    }
   ],
   "source": [
    "# Polymorphism in Python\n",
    "\n",
    "class Animal:\n",
    "    def __init__(self, name):\n",
    "        self.name = name\n",
    "\n",
    "    def speak(self):\n",
    "        print(\"Animal is speaking\")\n",
    "\n",
    "class Dog(Animal):\n",
    "    def speak(self):\n",
    "        print(\"Dog is barking\")\n",
    "    \n",
    "class Cat(Animal): \n",
    "    def speak(self):\n",
    "        print(\"Cat is meowing\")\n",
    "\n",
    "def animal_speak(animal): \n",
    "    animal.speak()\n",
    "\n",
    "dog = Dog(\"Dog\")\n",
    "cat = Cat(\"Cat\")\n",
    "\n",
    "animal_speak(dog)\n",
    "animal_speak(cat)"
   ]
  }
 ],
 "metadata": {
  "kernelspec": {
   "display_name": "Python 3",
   "language": "python",
   "name": "python3"
  },
  "language_info": {
   "codemirror_mode": {
    "name": "ipython",
    "version": 3
   },
   "file_extension": ".py",
   "mimetype": "text/x-python",
   "name": "python",
   "nbconvert_exporter": "python",
   "pygments_lexer": "ipython3",
   "version": "3.13.0"
  }
 },
 "nbformat": 4,
 "nbformat_minor": 2
}
