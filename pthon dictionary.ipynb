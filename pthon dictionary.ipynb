{
 "cells": [
  {
   "cell_type": "code",
   "execution_count": 3,
   "metadata": {},
   "outputs": [
    {
     "name": "stdout",
     "output_type": "stream",
     "text": [
      "{'name': 'Sugar', 'price': 230, 'weight': '1kg'}\n",
      "<class 'dict'>\n"
     ]
    }
   ],
   "source": [
    "# python dictionary is an ordered collection of items.\n",
    "\n",
    "my_dict = {\n",
    "    \"name\": \"Sugar\",\n",
    "    \"price\": 230,\n",
    "    \"weight\": \"1kg\"\n",
    "}\n",
    "\n",
    "print(my_dict)\n",
    "print(type(my_dict))"
   ]
  },
  {
   "cell_type": "code",
   "execution_count": null,
   "metadata": {},
   "outputs": [
    {
     "name": "stdout",
     "output_type": "stream",
     "text": [
      "{'name': 'Sugar', 'price': 250.0, 'weight': '1kg'}\n",
      "<class 'dict'>\n"
     ]
    }
   ],
   "source": [
    "# python dictionary replace duplicate key values\n",
    "\n",
    "my_dict = {\n",
    "    \"name\": \"Sugar\",\n",
    "    \"price\": 230,\n",
    "    \"weight\": \"1kg\",\n",
    "    \"price\": 250.00\n",
    "}\n",
    "\n",
    "print(my_dict)\n",
    "print(type(my_dict))"
   ]
  },
  {
   "cell_type": "code",
   "execution_count": null,
   "metadata": {},
   "outputs": [
    {
     "name": "stdout",
     "output_type": "stream",
     "text": [
      "Sugar\n"
     ]
    }
   ],
   "source": [
    "# access element from a dictionary\n",
    "\n",
    "my_dict = {\n",
    "    \"name\": \"Sugar\",\n",
    "    \"price\": 230,\n",
    "    \"weight\": \"1kg\"\n",
    "}\n",
    "\n",
    "print(my_dict[\"name\"])"
   ]
  },
  {
   "cell_type": "code",
   "execution_count": null,
   "metadata": {},
   "outputs": [
    {
     "name": "stdout",
     "output_type": "stream",
     "text": [
      "{'name': 'Salt', 'price': 230, 'weight': '1kg'}\n"
     ]
    }
   ],
   "source": [
    "# update element in a dictionary\n",
    "\n",
    "my_dict = {\n",
    "    \"name\": \"Sugar\",\n",
    "    \"price\": 230,\n",
    "    \"weight\": \"1kg\"\n",
    "}\n",
    "\n",
    "my_dict[\"name\"] = \"Salt\"\n",
    "print(my_dict)"
   ]
  },
  {
   "cell_type": "code",
   "execution_count": 10,
   "metadata": {},
   "outputs": [
    {
     "name": "stdout",
     "output_type": "stream",
     "text": [
      "230\n",
      "None\n",
      "No expiry date\n"
     ]
    }
   ],
   "source": [
    "# get method to access element from a dictionary\n",
    "\n",
    "my_dict = {\n",
    "    \"name\": \"Sugar\",\n",
    "    \"price\": 230,\n",
    "    \"weight\": \"1kg\"\n",
    "}\n",
    "\n",
    "print(my_dict.get(\"price\"))\n",
    "print(my_dict.get(\"expiry_date\"))\n",
    "print(my_dict.get(\"expiry_date\", \"No expiry date\"))"
   ]
  },
  {
   "cell_type": "code",
   "execution_count": null,
   "metadata": {},
   "outputs": [
    {
     "name": "stdout",
     "output_type": "stream",
     "text": [
      "{'name': 'Sugar', 'price': 250, 'weight': '2kg'}\n"
     ]
    }
   ],
   "source": [
    "# in-order to updae element(s) exisiting a dictionary\n",
    "\n",
    "my_dict = {\n",
    "    \"name\": \"Sugar\",\n",
    "    \"price\": 230,\n",
    "    \"weight\": \"1kg\"\n",
    "}\n",
    "\n",
    "my_dict.update({\"price\": 250, \"weight\": \"2kg\"})\n",
    "print(my_dict)"
   ]
  },
  {
   "cell_type": "code",
   "execution_count": null,
   "metadata": {},
   "outputs": [
    {
     "name": "stdout",
     "output_type": "stream",
     "text": [
      "{'name': 'Sugar', 'price': 230, 'weight': '1kg', 'color': 'white'}\n"
     ]
    }
   ],
   "source": [
    "# add completely new value to a dictionary\n",
    "\n",
    "my_dict = {\n",
    "    \"name\": \"Sugar\",\n",
    "    \"price\": 230,\n",
    "    \"weight\": \"1kg\"\n",
    "}\n",
    "\n",
    "my_dict[\"color\"] = \"white\"\n",
    "print(my_dict)"
   ]
  },
  {
   "cell_type": "code",
   "execution_count": null,
   "metadata": {},
   "outputs": [
    {
     "name": "stdout",
     "output_type": "stream",
     "text": [
      "{'name': 'Sugar', 'price': 230}\n"
     ]
    }
   ],
   "source": [
    "# remove element from a dictionary (pop method)\n",
    "\n",
    "my_dict = {\n",
    "    \"name\": \"Sugar\",\n",
    "    \"price\": 230,\n",
    "    \"weight\": \"1kg\"\n",
    "}\n",
    "\n",
    "my_dict.pop(\"weight\")\n",
    "print(my_dict)"
   ]
  },
  {
   "cell_type": "code",
   "execution_count": null,
   "metadata": {},
   "outputs": [
    {
     "name": "stdout",
     "output_type": "stream",
     "text": [
      "{'name': 'Sugar', 'price': 230}\n"
     ]
    }
   ],
   "source": [
    "# remove (destroy) element from a dictionary (del method)\n",
    "\n",
    "my_dict = {\n",
    "    \"name\": \"Sugar\",\n",
    "    \"price\": 230,\n",
    "    \"weight\": \"1kg\"\n",
    "}\n",
    "\n",
    "del my_dict[\"weight\"]\n",
    "print(my_dict)"
   ]
  },
  {
   "cell_type": "code",
   "execution_count": null,
   "metadata": {},
   "outputs": [
    {
     "name": "stdout",
     "output_type": "stream",
     "text": [
      "3\n"
     ]
    },
    {
     "ename": "NameError",
     "evalue": "name 'my_dict' is not defined",
     "output_type": "error",
     "traceback": [
      "\u001b[1;31m---------------------------------------------------------------------------\u001b[0m",
      "\u001b[1;31mNameError\u001b[0m                                 Traceback (most recent call last)",
      "Cell \u001b[1;32mIn[18], line 9\u001b[0m\n\u001b[0;32m      7\u001b[0m \u001b[38;5;28mprint\u001b[39m(\u001b[38;5;28mlen\u001b[39m(my_dict))\n\u001b[0;32m      8\u001b[0m \u001b[38;5;28;01mdel\u001b[39;00m my_dict\n\u001b[1;32m----> 9\u001b[0m \u001b[38;5;28mprint\u001b[39m(\u001b[38;5;28mlen\u001b[39m(\u001b[43mmy_dict\u001b[49m))\n",
      "\u001b[1;31mNameError\u001b[0m: name 'my_dict' is not defined"
     ]
    }
   ],
   "source": [
    "# destroy entire dictionary\n",
    "\n",
    "my_dict = {\n",
    "    \"name\": \"Sugar\",\n",
    "    \"price\": 230,\n",
    "    \"weight\": \"1kg\"\n",
    "}\n",
    "\n",
    "print(len(my_dict))\n",
    "del my_dict\n",
    "print(len(my_dict))"
   ]
  },
  {
   "cell_type": "code",
   "execution_count": 20,
   "metadata": {},
   "outputs": [
    {
     "name": "stdout",
     "output_type": "stream",
     "text": [
      "{}\n"
     ]
    }
   ],
   "source": [
    "# clear method to remove all elements from a dictionary\n",
    "\n",
    "my_dict = {\n",
    "    \"name\": \"Sugar\",\n",
    "    \"price\": 230,\n",
    "    \"weight\": \"1kg\"\n",
    "}\n",
    "\n",
    "my_dict.clear()\n",
    "print(my_dict)"
   ]
  },
  {
   "cell_type": "code",
   "execution_count": null,
   "metadata": {},
   "outputs": [
    {
     "name": "stdout",
     "output_type": "stream",
     "text": [
      "{'name': 'Sugar', 'price': 230, 'weight': '1kg'}\n"
     ]
    }
   ],
   "source": [
    "# copy method to copy a dictionary\n",
    "\n",
    "my_dict = {\n",
    "    \"name\": \"Sugar\",\n",
    "    \"price\": 230,\n",
    "    \"weight\": \"1kg\"\n",
    "}\n",
    "\n",
    "my_dict_1 = my_dict.copy()\n",
    "print(my_dict_1)"
   ]
  }
 ],
 "metadata": {
  "kernelspec": {
   "display_name": "Python 3",
   "language": "python",
   "name": "python3"
  },
  "language_info": {
   "codemirror_mode": {
    "name": "ipython",
    "version": 3
   },
   "file_extension": ".py",
   "mimetype": "text/x-python",
   "name": "python",
   "nbconvert_exporter": "python",
   "pygments_lexer": "ipython3",
   "version": "3.13.0"
  }
 },
 "nbformat": 4,
 "nbformat_minor": 2
}
