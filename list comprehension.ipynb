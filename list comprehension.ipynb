{
 "cells": [
  {
   "cell_type": "code",
   "execution_count": null,
   "metadata": {},
   "outputs": [
    {
     "name": "stdout",
     "output_type": "stream",
     "text": [
      "[4, 144, 81, 64]\n"
     ]
    }
   ],
   "source": [
    "# [expression for item in iterable if condition]\n",
    "\n",
    "numbers = [2, 12, 9, 8]\n",
    "\n",
    "result = [num * num for num in numbers]\n",
    "\n",
    "print(result)"
   ]
  },
  {
   "cell_type": "code",
   "execution_count": 3,
   "metadata": {},
   "outputs": [
    {
     "name": "stdout",
     "output_type": "stream",
     "text": [
      "positive_root_result : [64, 144, 25, 16]\n"
     ]
    }
   ],
   "source": [
    "# get the square of positive numbers\n",
    "\n",
    "numbers = [8, 12, -1, 5, 4, 0 , -8]\n",
    "\n",
    "positive_root_result = [num * num for num in numbers if num > 0]\n",
    "\n",
    "print(\"positive_root_result :\",  positive_root_result)"
   ]
  }
 ],
 "metadata": {
  "kernelspec": {
   "display_name": "Python 3",
   "language": "python",
   "name": "python3"
  },
  "language_info": {
   "codemirror_mode": {
    "name": "ipython",
    "version": 3
   },
   "file_extension": ".py",
   "mimetype": "text/x-python",
   "name": "python",
   "nbconvert_exporter": "python",
   "pygments_lexer": "ipython3",
   "version": "3.13.0"
  }
 },
 "nbformat": 4,
 "nbformat_minor": 2
}
