{
 "cells": [
  {
   "cell_type": "code",
   "execution_count": 1,
   "metadata": {},
   "outputs": [
    {
     "name": "stdout",
     "output_type": "stream",
     "text": [
      "(1, 2, 3, 4, 5) <class 'tuple'>\n"
     ]
    }
   ],
   "source": [
    "def arbitary_positional_arguments(*args):\n",
    "    print(args, type(args))\n",
    "\n",
    "arbitary_positional_arguments(1, 2, 3, 4, 5)"
   ]
  },
  {
   "cell_type": "code",
   "execution_count": 2,
   "metadata": {},
   "outputs": [
    {
     "name": "stdout",
     "output_type": "stream",
     "text": [
      "1\n",
      "2\n",
      "3\n",
      "4\n",
      "5\n"
     ]
    }
   ],
   "source": [
    "# print values individaully\n",
    "\n",
    "def arbitary_positional_arguments(*args):\n",
    "    for arg in args:\n",
    "        print(arg)\n",
    "        \n",
    "arbitary_positional_arguments(1, 2, 3, 4, 5)\n"
   ]
  },
  {
   "cell_type": "code",
   "execution_count": 8,
   "metadata": {},
   "outputs": [
    {
     "name": "stdout",
     "output_type": "stream",
     "text": [
      "Student Name: John\n",
      "Highest Grade: 90\n",
      "Lowest Grade: 70\n",
      "Average Grade: 80.0\n"
     ]
    }
   ],
   "source": [
    "'''write a pyhon function called 'Summerize grades' that accepts a student's name as a mandatory argument and \n",
    "an arbitrary no.of grade scores. The function should,\n",
    "\n",
    "1. print the student's name\n",
    "2. calculate and print the highest grade, lowest grade and the average grade from the provided scores.\n",
    "3. if no grades are provided, you should print \"No grades available\" \n",
    "\n",
    "use max(), min() and sum() functions to calculate the highest, lowest and average grades respectively.'''\n",
    "\n",
    "def summerize_grades(name, *grades):\n",
    "    print(\"Student Name:\", name)\n",
    "    if grades:\n",
    "        print(\"Highest Grade:\", max(grades))\n",
    "        print(\"Lowest Grade:\", min(grades))\n",
    "        print(\"Average Grade:\", sum(grades)/len(grades))\n",
    "    else:\n",
    "        print(\"No grades available\")\n",
    "\n",
    "summerize_grades(\"John\", 90, 80, 85, 70, 75)        "
   ]
  }
 ],
 "metadata": {
  "kernelspec": {
   "display_name": "Python 3",
   "language": "python",
   "name": "python3"
  },
  "language_info": {
   "codemirror_mode": {
    "name": "ipython",
    "version": 3
   },
   "file_extension": ".py",
   "mimetype": "text/x-python",
   "name": "python",
   "nbconvert_exporter": "python",
   "pygments_lexer": "ipython3",
   "version": "3.13.0"
  }
 },
 "nbformat": 4,
 "nbformat_minor": 2
}
